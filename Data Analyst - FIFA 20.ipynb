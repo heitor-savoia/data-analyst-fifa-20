{
 "cells": [
  {
   "cell_type": "markdown",
   "id": "dbc65a52",
   "metadata": {},
   "source": [
    "## Importando as bibliotecas"
   ]
  },
  {
   "cell_type": "code",
   "execution_count": 66,
   "id": "e867363a",
   "metadata": {},
   "outputs": [],
   "source": [
    "import zipfile \n",
    "import pandas as pd\n",
    "import matplotlib.pyplot as plt\n",
    "import seaborn as sns"
   ]
  },
  {
   "cell_type": "markdown",
   "id": "22c3b3a4",
   "metadata": {},
   "source": [
    "## Importando os arquivos"
   ]
  },
  {
   "cell_type": "markdown",
   "id": "16328342",
   "metadata": {},
   "source": [
    "### Descobrindo os arquivos que há dentro do zip"
   ]
  },
  {
   "cell_type": "code",
   "execution_count": 2,
   "id": "8669dfae",
   "metadata": {},
   "outputs": [
    {
     "name": "stdout",
     "output_type": "stream",
     "text": [
      "players_15.csv\n",
      "players_16.csv\n",
      "players_17.csv\n",
      "players_18.csv\n",
      "players_19.csv\n",
      "players_20.csv\n",
      "teams_and_leagues.csv\n"
     ]
    }
   ],
   "source": [
    "with zipfile.ZipFile('archive.zip') as z:\n",
    "    print(*z.namelist(), sep=\"\\n\")"
   ]
  },
  {
   "cell_type": "markdown",
   "id": "35d548d8",
   "metadata": {},
   "source": [
    "### Criando uma function para abrir os arquivos do zip"
   ]
  },
  {
   "cell_type": "code",
   "execution_count": 3,
   "id": "53804311",
   "metadata": {},
   "outputs": [],
   "source": [
    "def desc_zipfile(name_zip, name_csv):\n",
    "    \"\"\"Function que faz a leitura do arquivo dentro do zip e cria um DataFrame\n",
    "    name_zip = caminho do arquivo zip\n",
    "    name_csv = nome do arquivo que precisará abrir dentro do zip\n",
    "    \"\"\"\n",
    "    with zipfile.ZipFile(name_zip) as z:\n",
    "        with z.open(name_csv) as v:\n",
    "            name_df = pd.read_csv(v)\n",
    "            return name_df"
   ]
  },
  {
   "cell_type": "markdown",
   "id": "8e4665c6",
   "metadata": {},
   "source": [
    "## Análise Exploratória dos dados"
   ]
  },
  {
   "cell_type": "code",
   "execution_count": 4,
   "id": "1d8ebc5d",
   "metadata": {},
   "outputs": [
    {
     "data": {
      "text/html": [
       "<div>\n",
       "<style scoped>\n",
       "    .dataframe tbody tr th:only-of-type {\n",
       "        vertical-align: middle;\n",
       "    }\n",
       "\n",
       "    .dataframe tbody tr th {\n",
       "        vertical-align: top;\n",
       "    }\n",
       "\n",
       "    .dataframe thead th {\n",
       "        text-align: right;\n",
       "    }\n",
       "</style>\n",
       "<table border=\"1\" class=\"dataframe\">\n",
       "  <thead>\n",
       "    <tr style=\"text-align: right;\">\n",
       "      <th></th>\n",
       "      <th>sofifa_id</th>\n",
       "      <th>player_url</th>\n",
       "      <th>short_name</th>\n",
       "      <th>long_name</th>\n",
       "      <th>age</th>\n",
       "      <th>dob</th>\n",
       "      <th>height_cm</th>\n",
       "      <th>weight_kg</th>\n",
       "      <th>nationality</th>\n",
       "      <th>club</th>\n",
       "      <th>...</th>\n",
       "      <th>lwb</th>\n",
       "      <th>ldm</th>\n",
       "      <th>cdm</th>\n",
       "      <th>rdm</th>\n",
       "      <th>rwb</th>\n",
       "      <th>lb</th>\n",
       "      <th>lcb</th>\n",
       "      <th>cb</th>\n",
       "      <th>rcb</th>\n",
       "      <th>rb</th>\n",
       "    </tr>\n",
       "  </thead>\n",
       "  <tbody>\n",
       "    <tr>\n",
       "      <th>0</th>\n",
       "      <td>158023</td>\n",
       "      <td>https://sofifa.com/player/158023/lionel-messi/...</td>\n",
       "      <td>L. Messi</td>\n",
       "      <td>Lionel Andrés Messi Cuccittini</td>\n",
       "      <td>32</td>\n",
       "      <td>1987-06-24</td>\n",
       "      <td>170</td>\n",
       "      <td>72</td>\n",
       "      <td>Argentina</td>\n",
       "      <td>FC Barcelona</td>\n",
       "      <td>...</td>\n",
       "      <td>68+2</td>\n",
       "      <td>66+2</td>\n",
       "      <td>66+2</td>\n",
       "      <td>66+2</td>\n",
       "      <td>68+2</td>\n",
       "      <td>63+2</td>\n",
       "      <td>52+2</td>\n",
       "      <td>52+2</td>\n",
       "      <td>52+2</td>\n",
       "      <td>63+2</td>\n",
       "    </tr>\n",
       "    <tr>\n",
       "      <th>1</th>\n",
       "      <td>20801</td>\n",
       "      <td>https://sofifa.com/player/20801/c-ronaldo-dos-...</td>\n",
       "      <td>Cristiano Ronaldo</td>\n",
       "      <td>Cristiano Ronaldo dos Santos Aveiro</td>\n",
       "      <td>34</td>\n",
       "      <td>1985-02-05</td>\n",
       "      <td>187</td>\n",
       "      <td>83</td>\n",
       "      <td>Portugal</td>\n",
       "      <td>Juventus</td>\n",
       "      <td>...</td>\n",
       "      <td>65+3</td>\n",
       "      <td>61+3</td>\n",
       "      <td>61+3</td>\n",
       "      <td>61+3</td>\n",
       "      <td>65+3</td>\n",
       "      <td>61+3</td>\n",
       "      <td>53+3</td>\n",
       "      <td>53+3</td>\n",
       "      <td>53+3</td>\n",
       "      <td>61+3</td>\n",
       "    </tr>\n",
       "    <tr>\n",
       "      <th>2</th>\n",
       "      <td>190871</td>\n",
       "      <td>https://sofifa.com/player/190871/neymar-da-sil...</td>\n",
       "      <td>Neymar Jr</td>\n",
       "      <td>Neymar da Silva Santos Junior</td>\n",
       "      <td>27</td>\n",
       "      <td>1992-02-05</td>\n",
       "      <td>175</td>\n",
       "      <td>68</td>\n",
       "      <td>Brazil</td>\n",
       "      <td>Paris Saint-Germain</td>\n",
       "      <td>...</td>\n",
       "      <td>66+3</td>\n",
       "      <td>61+3</td>\n",
       "      <td>61+3</td>\n",
       "      <td>61+3</td>\n",
       "      <td>66+3</td>\n",
       "      <td>61+3</td>\n",
       "      <td>46+3</td>\n",
       "      <td>46+3</td>\n",
       "      <td>46+3</td>\n",
       "      <td>61+3</td>\n",
       "    </tr>\n",
       "    <tr>\n",
       "      <th>3</th>\n",
       "      <td>200389</td>\n",
       "      <td>https://sofifa.com/player/200389/jan-oblak/20/...</td>\n",
       "      <td>J. Oblak</td>\n",
       "      <td>Jan Oblak</td>\n",
       "      <td>26</td>\n",
       "      <td>1993-01-07</td>\n",
       "      <td>188</td>\n",
       "      <td>87</td>\n",
       "      <td>Slovenia</td>\n",
       "      <td>Atlético Madrid</td>\n",
       "      <td>...</td>\n",
       "      <td>NaN</td>\n",
       "      <td>NaN</td>\n",
       "      <td>NaN</td>\n",
       "      <td>NaN</td>\n",
       "      <td>NaN</td>\n",
       "      <td>NaN</td>\n",
       "      <td>NaN</td>\n",
       "      <td>NaN</td>\n",
       "      <td>NaN</td>\n",
       "      <td>NaN</td>\n",
       "    </tr>\n",
       "    <tr>\n",
       "      <th>4</th>\n",
       "      <td>183277</td>\n",
       "      <td>https://sofifa.com/player/183277/eden-hazard/2...</td>\n",
       "      <td>E. Hazard</td>\n",
       "      <td>Eden Hazard</td>\n",
       "      <td>28</td>\n",
       "      <td>1991-01-07</td>\n",
       "      <td>175</td>\n",
       "      <td>74</td>\n",
       "      <td>Belgium</td>\n",
       "      <td>Real Madrid</td>\n",
       "      <td>...</td>\n",
       "      <td>66+3</td>\n",
       "      <td>63+3</td>\n",
       "      <td>63+3</td>\n",
       "      <td>63+3</td>\n",
       "      <td>66+3</td>\n",
       "      <td>61+3</td>\n",
       "      <td>49+3</td>\n",
       "      <td>49+3</td>\n",
       "      <td>49+3</td>\n",
       "      <td>61+3</td>\n",
       "    </tr>\n",
       "  </tbody>\n",
       "</table>\n",
       "<p>5 rows × 104 columns</p>\n",
       "</div>"
      ],
      "text/plain": [
       "   sofifa_id                                         player_url  \\\n",
       "0     158023  https://sofifa.com/player/158023/lionel-messi/...   \n",
       "1      20801  https://sofifa.com/player/20801/c-ronaldo-dos-...   \n",
       "2     190871  https://sofifa.com/player/190871/neymar-da-sil...   \n",
       "3     200389  https://sofifa.com/player/200389/jan-oblak/20/...   \n",
       "4     183277  https://sofifa.com/player/183277/eden-hazard/2...   \n",
       "\n",
       "          short_name                            long_name  age         dob  \\\n",
       "0           L. Messi       Lionel Andrés Messi Cuccittini   32  1987-06-24   \n",
       "1  Cristiano Ronaldo  Cristiano Ronaldo dos Santos Aveiro   34  1985-02-05   \n",
       "2          Neymar Jr        Neymar da Silva Santos Junior   27  1992-02-05   \n",
       "3           J. Oblak                            Jan Oblak   26  1993-01-07   \n",
       "4          E. Hazard                          Eden Hazard   28  1991-01-07   \n",
       "\n",
       "   height_cm  weight_kg nationality                 club  ...   lwb   ldm  \\\n",
       "0        170         72   Argentina         FC Barcelona  ...  68+2  66+2   \n",
       "1        187         83    Portugal             Juventus  ...  65+3  61+3   \n",
       "2        175         68      Brazil  Paris Saint-Germain  ...  66+3  61+3   \n",
       "3        188         87    Slovenia      Atlético Madrid  ...   NaN   NaN   \n",
       "4        175         74     Belgium          Real Madrid  ...  66+3  63+3   \n",
       "\n",
       "    cdm   rdm   rwb    lb   lcb    cb   rcb    rb  \n",
       "0  66+2  66+2  68+2  63+2  52+2  52+2  52+2  63+2  \n",
       "1  61+3  61+3  65+3  61+3  53+3  53+3  53+3  61+3  \n",
       "2  61+3  61+3  66+3  61+3  46+3  46+3  46+3  61+3  \n",
       "3   NaN   NaN   NaN   NaN   NaN   NaN   NaN   NaN  \n",
       "4  63+3  63+3  66+3  61+3  49+3  49+3  49+3  61+3  \n",
       "\n",
       "[5 rows x 104 columns]"
      ]
     },
     "execution_count": 4,
     "metadata": {},
     "output_type": "execute_result"
    }
   ],
   "source": [
    "players_20 = desc_zipfile('archive.zip', 'players_20.csv')\n",
    "\n",
    "players_20.head()"
   ]
  },
  {
   "cell_type": "markdown",
   "id": "fb3b0439",
   "metadata": {},
   "source": [
    "#### Tamanho do arquivo"
   ]
  },
  {
   "cell_type": "code",
   "execution_count": 5,
   "id": "edaeb96c",
   "metadata": {},
   "outputs": [
    {
     "data": {
      "text/plain": [
       "(18278, 104)"
      ]
     },
     "execution_count": 5,
     "metadata": {},
     "output_type": "execute_result"
    }
   ],
   "source": [
    "players_20.shape"
   ]
  },
  {
   "cell_type": "markdown",
   "id": "d96e6420",
   "metadata": {},
   "source": [
    "#### Nome das colunas do arquivo"
   ]
  },
  {
   "cell_type": "code",
   "execution_count": 6,
   "id": "b28ccd4a",
   "metadata": {},
   "outputs": [
    {
     "name": "stdout",
     "output_type": "stream",
     "text": [
      "['sofifa_id' 'player_url' 'short_name' 'long_name' 'age' 'dob' 'height_cm'\n",
      " 'weight_kg' 'nationality' 'club' 'overall' 'potential' 'value_eur'\n",
      " 'wage_eur' 'player_positions' 'preferred_foot' 'international_reputation'\n",
      " 'weak_foot' 'skill_moves' 'work_rate' 'body_type' 'real_face'\n",
      " 'release_clause_eur' 'player_tags' 'team_position' 'team_jersey_number'\n",
      " 'loaned_from' 'joined' 'contract_valid_until' 'nation_position'\n",
      " 'nation_jersey_number' 'pace' 'shooting' 'passing' 'dribbling'\n",
      " 'defending' 'physic' 'gk_diving' 'gk_handling' 'gk_kicking' 'gk_reflexes'\n",
      " 'gk_speed' 'gk_positioning' 'player_traits' 'attacking_crossing'\n",
      " 'attacking_finishing' 'attacking_heading_accuracy'\n",
      " 'attacking_short_passing' 'attacking_volleys' 'skill_dribbling'\n",
      " 'skill_curve' 'skill_fk_accuracy' 'skill_long_passing'\n",
      " 'skill_ball_control' 'movement_acceleration' 'movement_sprint_speed'\n",
      " 'movement_agility' 'movement_reactions' 'movement_balance'\n",
      " 'power_shot_power' 'power_jumping' 'power_stamina' 'power_strength'\n",
      " 'power_long_shots' 'mentality_aggression' 'mentality_interceptions'\n",
      " 'mentality_positioning' 'mentality_vision' 'mentality_penalties'\n",
      " 'mentality_composure' 'defending_marking' 'defending_standing_tackle'\n",
      " 'defending_sliding_tackle' 'goalkeeping_diving' 'goalkeeping_handling'\n",
      " 'goalkeeping_kicking' 'goalkeeping_positioning' 'goalkeeping_reflexes'\n",
      " 'ls' 'st' 'rs' 'lw' 'lf' 'cf' 'rf' 'rw' 'lam' 'cam' 'ram' 'lm' 'lcm' 'cm'\n",
      " 'rcm' 'rm' 'lwb' 'ldm' 'cdm' 'rdm' 'rwb' 'lb' 'lcb' 'cb' 'rcb' 'rb']\n"
     ]
    }
   ],
   "source": [
    "columns = players_20.columns.values\n",
    "print(columns)"
   ]
  },
  {
   "cell_type": "markdown",
   "id": "fc9b1f3f",
   "metadata": {},
   "source": [
    "#### Tipo de dado para cada coluna"
   ]
  },
  {
   "cell_type": "code",
   "execution_count": 7,
   "id": "4f9b157b",
   "metadata": {},
   "outputs": [
    {
     "data": {
      "text/plain": [
       "sofifa_id      int64\n",
       "player_url    object\n",
       "short_name    object\n",
       "long_name     object\n",
       "age            int64\n",
       "               ...  \n",
       "lb            object\n",
       "lcb           object\n",
       "cb            object\n",
       "rcb           object\n",
       "rb            object\n",
       "Length: 104, dtype: object"
      ]
     },
     "execution_count": 7,
     "metadata": {},
     "output_type": "execute_result"
    }
   ],
   "source": [
    "players_20.dtypes"
   ]
  },
  {
   "cell_type": "markdown",
   "id": "5f025012",
   "metadata": {},
   "source": [
    "#### Dados estatísticos básicos do dataset"
   ]
  },
  {
   "cell_type": "code",
   "execution_count": 8,
   "id": "0781186e",
   "metadata": {},
   "outputs": [
    {
     "data": {
      "text/html": [
       "<div>\n",
       "<style scoped>\n",
       "    .dataframe tbody tr th:only-of-type {\n",
       "        vertical-align: middle;\n",
       "    }\n",
       "\n",
       "    .dataframe tbody tr th {\n",
       "        vertical-align: top;\n",
       "    }\n",
       "\n",
       "    .dataframe thead th {\n",
       "        text-align: right;\n",
       "    }\n",
       "</style>\n",
       "<table border=\"1\" class=\"dataframe\">\n",
       "  <thead>\n",
       "    <tr style=\"text-align: right;\">\n",
       "      <th></th>\n",
       "      <th>sofifa_id</th>\n",
       "      <th>age</th>\n",
       "      <th>height_cm</th>\n",
       "      <th>weight_kg</th>\n",
       "      <th>overall</th>\n",
       "      <th>potential</th>\n",
       "      <th>value_eur</th>\n",
       "      <th>wage_eur</th>\n",
       "      <th>international_reputation</th>\n",
       "      <th>weak_foot</th>\n",
       "      <th>...</th>\n",
       "      <th>mentality_penalties</th>\n",
       "      <th>mentality_composure</th>\n",
       "      <th>defending_marking</th>\n",
       "      <th>defending_standing_tackle</th>\n",
       "      <th>defending_sliding_tackle</th>\n",
       "      <th>goalkeeping_diving</th>\n",
       "      <th>goalkeeping_handling</th>\n",
       "      <th>goalkeeping_kicking</th>\n",
       "      <th>goalkeeping_positioning</th>\n",
       "      <th>goalkeeping_reflexes</th>\n",
       "    </tr>\n",
       "  </thead>\n",
       "  <tbody>\n",
       "    <tr>\n",
       "      <th>count</th>\n",
       "      <td>18278.000000</td>\n",
       "      <td>18278.000000</td>\n",
       "      <td>18278.000000</td>\n",
       "      <td>18278.000000</td>\n",
       "      <td>18278.000000</td>\n",
       "      <td>18278.000000</td>\n",
       "      <td>1.827800e+04</td>\n",
       "      <td>18278.000000</td>\n",
       "      <td>18278.000000</td>\n",
       "      <td>18278.000000</td>\n",
       "      <td>...</td>\n",
       "      <td>18278.000000</td>\n",
       "      <td>18278.000000</td>\n",
       "      <td>18278.000000</td>\n",
       "      <td>18278.000000</td>\n",
       "      <td>18278.000000</td>\n",
       "      <td>18278.000000</td>\n",
       "      <td>18278.000000</td>\n",
       "      <td>18278.000000</td>\n",
       "      <td>18278.000000</td>\n",
       "      <td>18278.000000</td>\n",
       "    </tr>\n",
       "    <tr>\n",
       "      <th>mean</th>\n",
       "      <td>219738.864482</td>\n",
       "      <td>25.283291</td>\n",
       "      <td>181.362184</td>\n",
       "      <td>75.276343</td>\n",
       "      <td>66.244994</td>\n",
       "      <td>71.546887</td>\n",
       "      <td>2.484038e+06</td>\n",
       "      <td>9456.942773</td>\n",
       "      <td>1.103184</td>\n",
       "      <td>2.944250</td>\n",
       "      <td>...</td>\n",
       "      <td>48.383357</td>\n",
       "      <td>58.528778</td>\n",
       "      <td>46.848889</td>\n",
       "      <td>47.640333</td>\n",
       "      <td>45.606631</td>\n",
       "      <td>16.572765</td>\n",
       "      <td>16.354853</td>\n",
       "      <td>16.212934</td>\n",
       "      <td>16.368038</td>\n",
       "      <td>16.709924</td>\n",
       "    </tr>\n",
       "    <tr>\n",
       "      <th>std</th>\n",
       "      <td>27960.200461</td>\n",
       "      <td>4.656964</td>\n",
       "      <td>6.756961</td>\n",
       "      <td>7.047744</td>\n",
       "      <td>6.949953</td>\n",
       "      <td>6.139669</td>\n",
       "      <td>5.585481e+06</td>\n",
       "      <td>21351.714095</td>\n",
       "      <td>0.378861</td>\n",
       "      <td>0.664656</td>\n",
       "      <td>...</td>\n",
       "      <td>15.708099</td>\n",
       "      <td>11.880840</td>\n",
       "      <td>20.091287</td>\n",
       "      <td>21.585641</td>\n",
       "      <td>21.217734</td>\n",
       "      <td>17.738069</td>\n",
       "      <td>16.996925</td>\n",
       "      <td>16.613665</td>\n",
       "      <td>17.136497</td>\n",
       "      <td>18.038125</td>\n",
       "    </tr>\n",
       "    <tr>\n",
       "      <th>min</th>\n",
       "      <td>768.000000</td>\n",
       "      <td>16.000000</td>\n",
       "      <td>156.000000</td>\n",
       "      <td>50.000000</td>\n",
       "      <td>48.000000</td>\n",
       "      <td>49.000000</td>\n",
       "      <td>0.000000e+00</td>\n",
       "      <td>0.000000</td>\n",
       "      <td>1.000000</td>\n",
       "      <td>1.000000</td>\n",
       "      <td>...</td>\n",
       "      <td>7.000000</td>\n",
       "      <td>12.000000</td>\n",
       "      <td>1.000000</td>\n",
       "      <td>5.000000</td>\n",
       "      <td>3.000000</td>\n",
       "      <td>1.000000</td>\n",
       "      <td>1.000000</td>\n",
       "      <td>1.000000</td>\n",
       "      <td>1.000000</td>\n",
       "      <td>1.000000</td>\n",
       "    </tr>\n",
       "    <tr>\n",
       "      <th>25%</th>\n",
       "      <td>204445.500000</td>\n",
       "      <td>22.000000</td>\n",
       "      <td>177.000000</td>\n",
       "      <td>70.000000</td>\n",
       "      <td>62.000000</td>\n",
       "      <td>67.000000</td>\n",
       "      <td>3.250000e+05</td>\n",
       "      <td>1000.000000</td>\n",
       "      <td>1.000000</td>\n",
       "      <td>3.000000</td>\n",
       "      <td>...</td>\n",
       "      <td>39.000000</td>\n",
       "      <td>51.000000</td>\n",
       "      <td>29.000000</td>\n",
       "      <td>27.000000</td>\n",
       "      <td>24.000000</td>\n",
       "      <td>8.000000</td>\n",
       "      <td>8.000000</td>\n",
       "      <td>8.000000</td>\n",
       "      <td>8.000000</td>\n",
       "      <td>8.000000</td>\n",
       "    </tr>\n",
       "    <tr>\n",
       "      <th>50%</th>\n",
       "      <td>226165.000000</td>\n",
       "      <td>25.000000</td>\n",
       "      <td>181.000000</td>\n",
       "      <td>75.000000</td>\n",
       "      <td>66.000000</td>\n",
       "      <td>71.000000</td>\n",
       "      <td>7.000000e+05</td>\n",
       "      <td>3000.000000</td>\n",
       "      <td>1.000000</td>\n",
       "      <td>3.000000</td>\n",
       "      <td>...</td>\n",
       "      <td>49.000000</td>\n",
       "      <td>60.000000</td>\n",
       "      <td>52.000000</td>\n",
       "      <td>55.000000</td>\n",
       "      <td>52.000000</td>\n",
       "      <td>11.000000</td>\n",
       "      <td>11.000000</td>\n",
       "      <td>11.000000</td>\n",
       "      <td>11.000000</td>\n",
       "      <td>11.000000</td>\n",
       "    </tr>\n",
       "    <tr>\n",
       "      <th>75%</th>\n",
       "      <td>240795.750000</td>\n",
       "      <td>29.000000</td>\n",
       "      <td>186.000000</td>\n",
       "      <td>80.000000</td>\n",
       "      <td>71.000000</td>\n",
       "      <td>75.000000</td>\n",
       "      <td>2.100000e+06</td>\n",
       "      <td>8000.000000</td>\n",
       "      <td>1.000000</td>\n",
       "      <td>3.000000</td>\n",
       "      <td>...</td>\n",
       "      <td>60.000000</td>\n",
       "      <td>67.000000</td>\n",
       "      <td>64.000000</td>\n",
       "      <td>66.000000</td>\n",
       "      <td>64.000000</td>\n",
       "      <td>14.000000</td>\n",
       "      <td>14.000000</td>\n",
       "      <td>14.000000</td>\n",
       "      <td>14.000000</td>\n",
       "      <td>14.000000</td>\n",
       "    </tr>\n",
       "    <tr>\n",
       "      <th>max</th>\n",
       "      <td>252905.000000</td>\n",
       "      <td>42.000000</td>\n",
       "      <td>205.000000</td>\n",
       "      <td>110.000000</td>\n",
       "      <td>94.000000</td>\n",
       "      <td>95.000000</td>\n",
       "      <td>1.055000e+08</td>\n",
       "      <td>565000.000000</td>\n",
       "      <td>5.000000</td>\n",
       "      <td>5.000000</td>\n",
       "      <td>...</td>\n",
       "      <td>92.000000</td>\n",
       "      <td>96.000000</td>\n",
       "      <td>94.000000</td>\n",
       "      <td>92.000000</td>\n",
       "      <td>90.000000</td>\n",
       "      <td>90.000000</td>\n",
       "      <td>92.000000</td>\n",
       "      <td>93.000000</td>\n",
       "      <td>91.000000</td>\n",
       "      <td>92.000000</td>\n",
       "    </tr>\n",
       "  </tbody>\n",
       "</table>\n",
       "<p>8 rows × 61 columns</p>\n",
       "</div>"
      ],
      "text/plain": [
       "           sofifa_id           age     height_cm     weight_kg       overall  \\\n",
       "count   18278.000000  18278.000000  18278.000000  18278.000000  18278.000000   \n",
       "mean   219738.864482     25.283291    181.362184     75.276343     66.244994   \n",
       "std     27960.200461      4.656964      6.756961      7.047744      6.949953   \n",
       "min       768.000000     16.000000    156.000000     50.000000     48.000000   \n",
       "25%    204445.500000     22.000000    177.000000     70.000000     62.000000   \n",
       "50%    226165.000000     25.000000    181.000000     75.000000     66.000000   \n",
       "75%    240795.750000     29.000000    186.000000     80.000000     71.000000   \n",
       "max    252905.000000     42.000000    205.000000    110.000000     94.000000   \n",
       "\n",
       "          potential     value_eur       wage_eur  international_reputation  \\\n",
       "count  18278.000000  1.827800e+04   18278.000000              18278.000000   \n",
       "mean      71.546887  2.484038e+06    9456.942773                  1.103184   \n",
       "std        6.139669  5.585481e+06   21351.714095                  0.378861   \n",
       "min       49.000000  0.000000e+00       0.000000                  1.000000   \n",
       "25%       67.000000  3.250000e+05    1000.000000                  1.000000   \n",
       "50%       71.000000  7.000000e+05    3000.000000                  1.000000   \n",
       "75%       75.000000  2.100000e+06    8000.000000                  1.000000   \n",
       "max       95.000000  1.055000e+08  565000.000000                  5.000000   \n",
       "\n",
       "          weak_foot  ...  mentality_penalties  mentality_composure  \\\n",
       "count  18278.000000  ...         18278.000000         18278.000000   \n",
       "mean       2.944250  ...            48.383357            58.528778   \n",
       "std        0.664656  ...            15.708099            11.880840   \n",
       "min        1.000000  ...             7.000000            12.000000   \n",
       "25%        3.000000  ...            39.000000            51.000000   \n",
       "50%        3.000000  ...            49.000000            60.000000   \n",
       "75%        3.000000  ...            60.000000            67.000000   \n",
       "max        5.000000  ...            92.000000            96.000000   \n",
       "\n",
       "       defending_marking  defending_standing_tackle  defending_sliding_tackle  \\\n",
       "count       18278.000000               18278.000000              18278.000000   \n",
       "mean           46.848889                  47.640333                 45.606631   \n",
       "std            20.091287                  21.585641                 21.217734   \n",
       "min             1.000000                   5.000000                  3.000000   \n",
       "25%            29.000000                  27.000000                 24.000000   \n",
       "50%            52.000000                  55.000000                 52.000000   \n",
       "75%            64.000000                  66.000000                 64.000000   \n",
       "max            94.000000                  92.000000                 90.000000   \n",
       "\n",
       "       goalkeeping_diving  goalkeeping_handling  goalkeeping_kicking  \\\n",
       "count        18278.000000          18278.000000         18278.000000   \n",
       "mean            16.572765             16.354853            16.212934   \n",
       "std             17.738069             16.996925            16.613665   \n",
       "min              1.000000              1.000000             1.000000   \n",
       "25%              8.000000              8.000000             8.000000   \n",
       "50%             11.000000             11.000000            11.000000   \n",
       "75%             14.000000             14.000000            14.000000   \n",
       "max             90.000000             92.000000            93.000000   \n",
       "\n",
       "       goalkeeping_positioning  goalkeeping_reflexes  \n",
       "count             18278.000000          18278.000000  \n",
       "mean                 16.368038             16.709924  \n",
       "std                  17.136497             18.038125  \n",
       "min                   1.000000              1.000000  \n",
       "25%                   8.000000              8.000000  \n",
       "50%                  11.000000             11.000000  \n",
       "75%                  14.000000             14.000000  \n",
       "max                  91.000000             92.000000  \n",
       "\n",
       "[8 rows x 61 columns]"
      ]
     },
     "execution_count": 8,
     "metadata": {},
     "output_type": "execute_result"
    }
   ],
   "source": [
    "players_20.describe()"
   ]
  },
  {
   "cell_type": "markdown",
   "id": "06478ecf",
   "metadata": {},
   "source": [
    "#### Análise exploratório de dados nulos"
   ]
  },
  {
   "cell_type": "code",
   "execution_count": 9,
   "id": "b560c51c",
   "metadata": {},
   "outputs": [
    {
     "name": "stdout",
     "output_type": "stream",
     "text": [
      "Nome da coluna: release_clause_eur \n",
      "Total de Valores Nulos:1298\n",
      "--------------------------------------------------\n",
      "Nome da coluna: player_tags \n",
      "Total de Valores Nulos:16779\n",
      "--------------------------------------------------\n",
      "Nome da coluna: team_position \n",
      "Total de Valores Nulos:240\n",
      "--------------------------------------------------\n",
      "Nome da coluna: team_jersey_number \n",
      "Total de Valores Nulos:240\n",
      "--------------------------------------------------\n",
      "Nome da coluna: loaned_from \n",
      "Total de Valores Nulos:17230\n",
      "--------------------------------------------------\n",
      "Nome da coluna: joined \n",
      "Total de Valores Nulos:1288\n",
      "--------------------------------------------------\n",
      "Nome da coluna: contract_valid_until \n",
      "Total de Valores Nulos:240\n",
      "--------------------------------------------------\n",
      "Nome da coluna: nation_position \n",
      "Total de Valores Nulos:17152\n",
      "--------------------------------------------------\n",
      "Nome da coluna: nation_jersey_number \n",
      "Total de Valores Nulos:17152\n",
      "--------------------------------------------------\n",
      "Nome da coluna: pace \n",
      "Total de Valores Nulos:2036\n",
      "--------------------------------------------------\n",
      "Nome da coluna: shooting \n",
      "Total de Valores Nulos:2036\n",
      "--------------------------------------------------\n",
      "Nome da coluna: passing \n",
      "Total de Valores Nulos:2036\n",
      "--------------------------------------------------\n",
      "Nome da coluna: dribbling \n",
      "Total de Valores Nulos:2036\n",
      "--------------------------------------------------\n",
      "Nome da coluna: defending \n",
      "Total de Valores Nulos:2036\n",
      "--------------------------------------------------\n",
      "Nome da coluna: physic \n",
      "Total de Valores Nulos:2036\n",
      "--------------------------------------------------\n",
      "Nome da coluna: gk_diving \n",
      "Total de Valores Nulos:16242\n",
      "--------------------------------------------------\n",
      "Nome da coluna: gk_handling \n",
      "Total de Valores Nulos:16242\n",
      "--------------------------------------------------\n",
      "Nome da coluna: gk_kicking \n",
      "Total de Valores Nulos:16242\n",
      "--------------------------------------------------\n",
      "Nome da coluna: gk_reflexes \n",
      "Total de Valores Nulos:16242\n",
      "--------------------------------------------------\n",
      "Nome da coluna: gk_speed \n",
      "Total de Valores Nulos:16242\n",
      "--------------------------------------------------\n",
      "Nome da coluna: gk_positioning \n",
      "Total de Valores Nulos:16242\n",
      "--------------------------------------------------\n",
      "Nome da coluna: player_traits \n",
      "Total de Valores Nulos:10712\n",
      "--------------------------------------------------\n",
      "Nome da coluna: ls \n",
      "Total de Valores Nulos:2036\n",
      "--------------------------------------------------\n",
      "Nome da coluna: st \n",
      "Total de Valores Nulos:2036\n",
      "--------------------------------------------------\n",
      "Nome da coluna: rs \n",
      "Total de Valores Nulos:2036\n",
      "--------------------------------------------------\n",
      "Nome da coluna: lw \n",
      "Total de Valores Nulos:2036\n",
      "--------------------------------------------------\n",
      "Nome da coluna: lf \n",
      "Total de Valores Nulos:2036\n",
      "--------------------------------------------------\n",
      "Nome da coluna: cf \n",
      "Total de Valores Nulos:2036\n",
      "--------------------------------------------------\n",
      "Nome da coluna: rf \n",
      "Total de Valores Nulos:2036\n",
      "--------------------------------------------------\n",
      "Nome da coluna: rw \n",
      "Total de Valores Nulos:2036\n",
      "--------------------------------------------------\n",
      "Nome da coluna: lam \n",
      "Total de Valores Nulos:2036\n",
      "--------------------------------------------------\n",
      "Nome da coluna: cam \n",
      "Total de Valores Nulos:2036\n",
      "--------------------------------------------------\n",
      "Nome da coluna: ram \n",
      "Total de Valores Nulos:2036\n",
      "--------------------------------------------------\n",
      "Nome da coluna: lm \n",
      "Total de Valores Nulos:2036\n",
      "--------------------------------------------------\n",
      "Nome da coluna: lcm \n",
      "Total de Valores Nulos:2036\n",
      "--------------------------------------------------\n",
      "Nome da coluna: cm \n",
      "Total de Valores Nulos:2036\n",
      "--------------------------------------------------\n",
      "Nome da coluna: rcm \n",
      "Total de Valores Nulos:2036\n",
      "--------------------------------------------------\n",
      "Nome da coluna: rm \n",
      "Total de Valores Nulos:2036\n",
      "--------------------------------------------------\n",
      "Nome da coluna: lwb \n",
      "Total de Valores Nulos:2036\n",
      "--------------------------------------------------\n",
      "Nome da coluna: ldm \n",
      "Total de Valores Nulos:2036\n",
      "--------------------------------------------------\n",
      "Nome da coluna: cdm \n",
      "Total de Valores Nulos:2036\n",
      "--------------------------------------------------\n",
      "Nome da coluna: rdm \n",
      "Total de Valores Nulos:2036\n",
      "--------------------------------------------------\n",
      "Nome da coluna: rwb \n",
      "Total de Valores Nulos:2036\n",
      "--------------------------------------------------\n",
      "Nome da coluna: lb \n",
      "Total de Valores Nulos:2036\n",
      "--------------------------------------------------\n",
      "Nome da coluna: lcb \n",
      "Total de Valores Nulos:2036\n",
      "--------------------------------------------------\n",
      "Nome da coluna: cb \n",
      "Total de Valores Nulos:2036\n",
      "--------------------------------------------------\n",
      "Nome da coluna: rcb \n",
      "Total de Valores Nulos:2036\n",
      "--------------------------------------------------\n",
      "Nome da coluna: rb \n",
      "Total de Valores Nulos:2036\n",
      "--------------------------------------------------\n"
     ]
    }
   ],
   "source": [
    "for col in columns:\n",
    "    if players_20[col].isnull().sum() == 0:\n",
    "        pass\n",
    "    else:\n",
    "        print('Nome da coluna: {} \\nTotal de Valores Nulos:{}'.format(col,players_20[col].isnull().sum()))\n",
    "        print(50*'-')"
   ]
  },
  {
   "cell_type": "markdown",
   "id": "cd8c490d",
   "metadata": {},
   "source": [
    "### Apos a análise exploratória, irei retirar as colunas que:"
   ]
  },
  {
   "cell_type": "markdown",
   "id": "5ca176fb",
   "metadata": {},
   "source": [
    "#### 1. Possuem grande quantidade de valores nulos e podem atrapalhar as análises\n",
    "#### 2. Não possuem relevância para as análises"
   ]
  },
  {
   "cell_type": "code",
   "execution_count": 10,
   "id": "4ac6e77a",
   "metadata": {},
   "outputs": [],
   "source": [
    "players_20_n = players_20[['short_name', 'age', 'height_cm', 'weight_kg', 'nationality', 'club', 'overall', 'potential', \n",
    "                           'value_eur', 'wage_eur', 'player_positions', 'power_jumping', 'power_long_shots'\n",
    "                          ]]"
   ]
  },
  {
   "cell_type": "code",
   "execution_count": 11,
   "id": "d0468d83",
   "metadata": {},
   "outputs": [
    {
     "data": {
      "text/html": [
       "<div>\n",
       "<style scoped>\n",
       "    .dataframe tbody tr th:only-of-type {\n",
       "        vertical-align: middle;\n",
       "    }\n",
       "\n",
       "    .dataframe tbody tr th {\n",
       "        vertical-align: top;\n",
       "    }\n",
       "\n",
       "    .dataframe thead th {\n",
       "        text-align: right;\n",
       "    }\n",
       "</style>\n",
       "<table border=\"1\" class=\"dataframe\">\n",
       "  <thead>\n",
       "    <tr style=\"text-align: right;\">\n",
       "      <th></th>\n",
       "      <th>short_name</th>\n",
       "      <th>age</th>\n",
       "      <th>height_cm</th>\n",
       "      <th>weight_kg</th>\n",
       "      <th>nationality</th>\n",
       "      <th>club</th>\n",
       "      <th>overall</th>\n",
       "      <th>potential</th>\n",
       "      <th>value_eur</th>\n",
       "      <th>wage_eur</th>\n",
       "      <th>player_positions</th>\n",
       "      <th>power_jumping</th>\n",
       "      <th>power_long_shots</th>\n",
       "    </tr>\n",
       "  </thead>\n",
       "  <tbody>\n",
       "    <tr>\n",
       "      <th>0</th>\n",
       "      <td>L. Messi</td>\n",
       "      <td>32</td>\n",
       "      <td>170</td>\n",
       "      <td>72</td>\n",
       "      <td>Argentina</td>\n",
       "      <td>FC Barcelona</td>\n",
       "      <td>94</td>\n",
       "      <td>94</td>\n",
       "      <td>95500000</td>\n",
       "      <td>565000</td>\n",
       "      <td>RW, CF, ST</td>\n",
       "      <td>68</td>\n",
       "      <td>94</td>\n",
       "    </tr>\n",
       "    <tr>\n",
       "      <th>1</th>\n",
       "      <td>Cristiano Ronaldo</td>\n",
       "      <td>34</td>\n",
       "      <td>187</td>\n",
       "      <td>83</td>\n",
       "      <td>Portugal</td>\n",
       "      <td>Juventus</td>\n",
       "      <td>93</td>\n",
       "      <td>93</td>\n",
       "      <td>58500000</td>\n",
       "      <td>405000</td>\n",
       "      <td>ST, LW</td>\n",
       "      <td>95</td>\n",
       "      <td>93</td>\n",
       "    </tr>\n",
       "    <tr>\n",
       "      <th>2</th>\n",
       "      <td>Neymar Jr</td>\n",
       "      <td>27</td>\n",
       "      <td>175</td>\n",
       "      <td>68</td>\n",
       "      <td>Brazil</td>\n",
       "      <td>Paris Saint-Germain</td>\n",
       "      <td>92</td>\n",
       "      <td>92</td>\n",
       "      <td>105500000</td>\n",
       "      <td>290000</td>\n",
       "      <td>LW, CAM</td>\n",
       "      <td>61</td>\n",
       "      <td>84</td>\n",
       "    </tr>\n",
       "    <tr>\n",
       "      <th>3</th>\n",
       "      <td>J. Oblak</td>\n",
       "      <td>26</td>\n",
       "      <td>188</td>\n",
       "      <td>87</td>\n",
       "      <td>Slovenia</td>\n",
       "      <td>Atlético Madrid</td>\n",
       "      <td>91</td>\n",
       "      <td>93</td>\n",
       "      <td>77500000</td>\n",
       "      <td>125000</td>\n",
       "      <td>GK</td>\n",
       "      <td>78</td>\n",
       "      <td>12</td>\n",
       "    </tr>\n",
       "    <tr>\n",
       "      <th>4</th>\n",
       "      <td>E. Hazard</td>\n",
       "      <td>28</td>\n",
       "      <td>175</td>\n",
       "      <td>74</td>\n",
       "      <td>Belgium</td>\n",
       "      <td>Real Madrid</td>\n",
       "      <td>91</td>\n",
       "      <td>91</td>\n",
       "      <td>90000000</td>\n",
       "      <td>470000</td>\n",
       "      <td>LW, CF</td>\n",
       "      <td>56</td>\n",
       "      <td>80</td>\n",
       "    </tr>\n",
       "  </tbody>\n",
       "</table>\n",
       "</div>"
      ],
      "text/plain": [
       "          short_name  age  height_cm  weight_kg nationality  \\\n",
       "0           L. Messi   32        170         72   Argentina   \n",
       "1  Cristiano Ronaldo   34        187         83    Portugal   \n",
       "2          Neymar Jr   27        175         68      Brazil   \n",
       "3           J. Oblak   26        188         87    Slovenia   \n",
       "4          E. Hazard   28        175         74     Belgium   \n",
       "\n",
       "                  club  overall  potential  value_eur  wage_eur  \\\n",
       "0         FC Barcelona       94         94   95500000    565000   \n",
       "1             Juventus       93         93   58500000    405000   \n",
       "2  Paris Saint-Germain       92         92  105500000    290000   \n",
       "3      Atlético Madrid       91         93   77500000    125000   \n",
       "4          Real Madrid       91         91   90000000    470000   \n",
       "\n",
       "  player_positions  power_jumping  power_long_shots  \n",
       "0       RW, CF, ST             68                94  \n",
       "1           ST, LW             95                93  \n",
       "2          LW, CAM             61                84  \n",
       "3               GK             78                12  \n",
       "4           LW, CF             56                80  "
      ]
     },
     "execution_count": 11,
     "metadata": {},
     "output_type": "execute_result"
    }
   ],
   "source": [
    "players_20_n.head()"
   ]
  },
  {
   "cell_type": "markdown",
   "id": "f47b6177",
   "metadata": {},
   "source": [
    "### Análise exploratória dos times Barcela vs Real Madrid"
   ]
  },
  {
   "cell_type": "code",
   "execution_count": 12,
   "id": "b9db05ec",
   "metadata": {},
   "outputs": [
    {
     "data": {
      "text/plain": [
       "(33, 13)"
      ]
     },
     "execution_count": 12,
     "metadata": {},
     "output_type": "execute_result"
    }
   ],
   "source": [
    "realmadrid = players_20_n[players_20_n[\"club\"] == \"Real Madrid\"]\n",
    "realmadrid.shape"
   ]
  },
  {
   "cell_type": "code",
   "execution_count": 13,
   "id": "74feebc1",
   "metadata": {},
   "outputs": [
    {
     "data": {
      "text/plain": [
       "(33, 13)"
      ]
     },
     "execution_count": 13,
     "metadata": {},
     "output_type": "execute_result"
    }
   ],
   "source": [
    "barcelona = players_20_n[players_20_n[\"club\"] == \"FC Barcelona\"]\n",
    "barcelona.shape"
   ]
  },
  {
   "cell_type": "markdown",
   "id": "abeb67db",
   "metadata": {},
   "source": [
    "#### Análise dos melhores jogadores"
   ]
  },
  {
   "cell_type": "code",
   "execution_count": 21,
   "id": "fc1526b3",
   "metadata": {},
   "outputs": [
    {
     "data": {
      "image/png": "[encoded data removed]",
      "text/plain": [
       "<Figure size 432x288 with 2 Axes>"
      ]
     },
     "metadata": {
      "needs_background": "light"
     },
     "output_type": "display_data"
    }
   ],
   "source": [
    "plt.figure()\n",
    "\n",
    "plt.subplot(121)\n",
    "plt.boxplot(realmadrid['overall'])\n",
    "plt.ylabel('Overall')\n",
    "plt.title('Real Madrid')\n",
    "plt.grid(False)\n",
    "\n",
    "plt.subplot(122)\n",
    "plt.boxplot(barcelona['overall'])\n",
    "plt.ylabel('Overall')\n",
    "plt.title('Barcelona')\n",
    "plt.grid(False)\n"
   ]
  },
  {
   "cell_type": "code",
   "execution_count": 25,
   "id": "a029f468",
   "metadata": {},
   "outputs": [
    {
     "name": "stdout",
     "output_type": "stream",
     "text": [
      "count    33.000000\n",
      "mean     80.121212\n",
      "std       7.975578\n",
      "min      62.000000\n",
      "25%      76.000000\n",
      "50%      82.000000\n",
      "75%      86.000000\n",
      "max      91.000000\n",
      "Name: overall, dtype: float64\n",
      "--------------------------------------------------\n",
      "count    33.000000\n",
      "mean     78.363636\n",
      "std       9.370226\n",
      "min      64.000000\n",
      "25%      70.000000\n",
      "50%      82.000000\n",
      "75%      86.000000\n",
      "max      94.000000\n",
      "Name: overall, dtype: float64\n"
     ]
    }
   ],
   "source": [
    "print(realmadrid['overall'].describe())\n",
    "print(50*'-')\n",
    "print(barcelona['overall'].describe())"
   ]
  },
  {
   "cell_type": "markdown",
   "id": "24927ed8",
   "metadata": {},
   "source": [
    "A classificação dos jogadores de Barcelona está mais dispersa do que o Real Madrid, isso quer dizer que:\n",
    "A variação que tem enquanto a classificação de jogadores está mais concentrada do que o Barcelona"
   ]
  },
  {
   "cell_type": "markdown",
   "id": "132e8ce4",
   "metadata": {},
   "source": [
    "### Análise exploratória dos jogadores mais valorizados"
   ]
  },
  {
   "cell_type": "code",
   "execution_count": 35,
   "id": "5d8ef406",
   "metadata": {},
   "outputs": [
    {
     "data": {
      "text/plain": [
       "Text(0.5, 1.0, 'Valor em 10x8 de milhões de euros - Real Madrid')"
      ]
     },
     "execution_count": 35,
     "metadata": {},
     "output_type": "execute_result"
    },
    {
     "data": {
      "image/png": "[encoded data removed]",
      "text/plain": [
       "<Figure size 432x288 with 1 Axes>"
      ]
     },
     "metadata": {
      "needs_background": "light"
     },
     "output_type": "display_data"
    }
   ],
   "source": [
    "plt.hist(realmadrid['value_eur'])\n",
    "plt.xlabel('Valor em 10x8 de milhões de euros')\n",
    "plt.ylabel('Frequência')\n",
    "plt.title('Valor em 10x8 de milhões de euros - Real Madrid')"
   ]
  },
  {
   "cell_type": "code",
   "execution_count": 38,
   "id": "5d18e05f",
   "metadata": {},
   "outputs": [
    {
     "data": {
      "text/plain": [
       "count    3.300000e+01\n",
       "mean     2.720758e+07\n",
       "std      2.063137e+07\n",
       "min      5.500000e+05\n",
       "25%      1.300000e+07\n",
       "50%      2.300000e+07\n",
       "75%      4.050000e+07\n",
       "max      9.000000e+07\n",
       "Name: value_eur, dtype: float64"
      ]
     },
     "execution_count": 38,
     "metadata": {},
     "output_type": "execute_result"
    }
   ],
   "source": [
    "realmadrid['value_eur'].describe()"
   ]
  },
  {
   "cell_type": "code",
   "execution_count": 41,
   "id": "c62c8c35",
   "metadata": {},
   "outputs": [
    {
     "data": {
      "text/html": [
       "<div>\n",
       "<style scoped>\n",
       "    .dataframe tbody tr th:only-of-type {\n",
       "        vertical-align: middle;\n",
       "    }\n",
       "\n",
       "    .dataframe tbody tr th {\n",
       "        vertical-align: top;\n",
       "    }\n",
       "\n",
       "    .dataframe thead th {\n",
       "        text-align: right;\n",
       "    }\n",
       "</style>\n",
       "<table border=\"1\" class=\"dataframe\">\n",
       "  <thead>\n",
       "    <tr style=\"text-align: right;\">\n",
       "      <th></th>\n",
       "      <th>short_name</th>\n",
       "      <th>age</th>\n",
       "      <th>height_cm</th>\n",
       "      <th>weight_kg</th>\n",
       "      <th>nationality</th>\n",
       "      <th>club</th>\n",
       "      <th>overall</th>\n",
       "      <th>potential</th>\n",
       "      <th>value_eur</th>\n",
       "      <th>wage_eur</th>\n",
       "      <th>player_positions</th>\n",
       "      <th>power_jumping</th>\n",
       "      <th>power_long_shots</th>\n",
       "    </tr>\n",
       "  </thead>\n",
       "  <tbody>\n",
       "    <tr>\n",
       "      <th>4</th>\n",
       "      <td>E. Hazard</td>\n",
       "      <td>28</td>\n",
       "      <td>175</td>\n",
       "      <td>74</td>\n",
       "      <td>Belgium</td>\n",
       "      <td>Real Madrid</td>\n",
       "      <td>91</td>\n",
       "      <td>91</td>\n",
       "      <td>90000000</td>\n",
       "      <td>470000</td>\n",
       "      <td>LW, CF</td>\n",
       "      <td>56</td>\n",
       "      <td>80</td>\n",
       "    </tr>\n",
       "    <tr>\n",
       "      <th>36</th>\n",
       "      <td>T. Kroos</td>\n",
       "      <td>29</td>\n",
       "      <td>183</td>\n",
       "      <td>76</td>\n",
       "      <td>Germany</td>\n",
       "      <td>Real Madrid</td>\n",
       "      <td>88</td>\n",
       "      <td>88</td>\n",
       "      <td>57000000</td>\n",
       "      <td>330000</td>\n",
       "      <td>CM</td>\n",
       "      <td>30</td>\n",
       "      <td>86</td>\n",
       "    </tr>\n",
       "    <tr>\n",
       "      <th>42</th>\n",
       "      <td>Casemiro</td>\n",
       "      <td>27</td>\n",
       "      <td>185</td>\n",
       "      <td>84</td>\n",
       "      <td>Brazil</td>\n",
       "      <td>Real Madrid</td>\n",
       "      <td>87</td>\n",
       "      <td>89</td>\n",
       "      <td>53500000</td>\n",
       "      <td>240000</td>\n",
       "      <td>CDM</td>\n",
       "      <td>87</td>\n",
       "      <td>81</td>\n",
       "    </tr>\n",
       "    <tr>\n",
       "      <th>62</th>\n",
       "      <td>Isco</td>\n",
       "      <td>27</td>\n",
       "      <td>176</td>\n",
       "      <td>79</td>\n",
       "      <td>Spain</td>\n",
       "      <td>Real Madrid</td>\n",
       "      <td>86</td>\n",
       "      <td>87</td>\n",
       "      <td>51000000</td>\n",
       "      <td>245000</td>\n",
       "      <td>CAM, CM, LW</td>\n",
       "      <td>61</td>\n",
       "      <td>84</td>\n",
       "    </tr>\n",
       "  </tbody>\n",
       "</table>\n",
       "</div>"
      ],
      "text/plain": [
       "   short_name  age  height_cm  weight_kg nationality         club  overall  \\\n",
       "4   E. Hazard   28        175         74     Belgium  Real Madrid       91   \n",
       "36   T. Kroos   29        183         76     Germany  Real Madrid       88   \n",
       "42   Casemiro   27        185         84      Brazil  Real Madrid       87   \n",
       "62       Isco   27        176         79       Spain  Real Madrid       86   \n",
       "\n",
       "    potential  value_eur  wage_eur player_positions  power_jumping  \\\n",
       "4          91   90000000    470000           LW, CF             56   \n",
       "36         88   57000000    330000               CM             30   \n",
       "42         89   53500000    240000              CDM             87   \n",
       "62         87   51000000    245000      CAM, CM, LW             61   \n",
       "\n",
       "    power_long_shots  \n",
       "4                 80  \n",
       "36                86  \n",
       "42                81  \n",
       "62                84  "
      ]
     },
     "execution_count": 41,
     "metadata": {},
     "output_type": "execute_result"
    }
   ],
   "source": [
    "most_value_rm = realmadrid[realmadrid['value_eur'] > 50000000]\n",
    "most_value_rm"
   ]
  },
  {
   "cell_type": "markdown",
   "id": "7583a8c9",
   "metadata": {},
   "source": [
    "A média de valores dos jogadores do Real Madrid é de 272.0 milhões de euros"
   ]
  },
  {
   "cell_type": "markdown",
   "id": "7da229f1",
   "metadata": {},
   "source": [
    "O jogador mais caro possui o valor de 900.0 milhões de euros"
   ]
  },
  {
   "cell_type": "markdown",
   "id": "bfd8eec4",
   "metadata": {},
   "source": [
    "O jogador mais barato possui o valor de 5.5 milhões de euros"
   ]
  },
  {
   "cell_type": "markdown",
   "id": "e2f7f55c",
   "metadata": {},
   "source": [
    "Há uma distribuição bem acentuada ente os ranges de 0 - 4"
   ]
  },
  {
   "cell_type": "code",
   "execution_count": 36,
   "id": "ee453dec",
   "metadata": {},
   "outputs": [
    {
     "data": {
      "text/plain": [
       "Text(0.5, 1.0, 'Valor em 10x8 de milhões de euros - Barcelona')"
      ]
     },
     "execution_count": 36,
     "metadata": {},
     "output_type": "execute_result"
    },
    {
     "data": {
      "image/png": "[encoded data removed]",
      "text/plain": [
       "<Figure size 432x288 with 1 Axes>"
      ]
     },
     "metadata": {
      "needs_background": "light"
     },
     "output_type": "display_data"
    }
   ],
   "source": [
    "plt.hist(barcelona['value_eur'])\n",
    "plt.xlabel('Valor em 10x8 de milhões de euros')\n",
    "plt.ylabel('Frequência')\n",
    "plt.title('Valor em 10x8 de milhões de euros - Barcelona')"
   ]
  },
  {
   "cell_type": "code",
   "execution_count": 39,
   "id": "83cb6192",
   "metadata": {},
   "outputs": [
    {
     "data": {
      "text/plain": [
       "count    3.300000e+01\n",
       "mean     2.634242e+07\n",
       "std      2.513480e+07\n",
       "min      8.500000e+05\n",
       "25%      3.100000e+06\n",
       "50%      2.200000e+07\n",
       "75%      4.250000e+07\n",
       "max      9.550000e+07\n",
       "Name: value_eur, dtype: float64"
      ]
     },
     "execution_count": 39,
     "metadata": {},
     "output_type": "execute_result"
    }
   ],
   "source": [
    "barcelona['value_eur'].describe()"
   ]
  },
  {
   "cell_type": "code",
   "execution_count": 42,
   "id": "6ed1dbd3",
   "metadata": {},
   "outputs": [
    {
     "data": {
      "text/html": [
       "<div>\n",
       "<style scoped>\n",
       "    .dataframe tbody tr th:only-of-type {\n",
       "        vertical-align: middle;\n",
       "    }\n",
       "\n",
       "    .dataframe tbody tr th {\n",
       "        vertical-align: top;\n",
       "    }\n",
       "\n",
       "    .dataframe thead th {\n",
       "        text-align: right;\n",
       "    }\n",
       "</style>\n",
       "<table border=\"1\" class=\"dataframe\">\n",
       "  <thead>\n",
       "    <tr style=\"text-align: right;\">\n",
       "      <th></th>\n",
       "      <th>short_name</th>\n",
       "      <th>age</th>\n",
       "      <th>height_cm</th>\n",
       "      <th>weight_kg</th>\n",
       "      <th>nationality</th>\n",
       "      <th>club</th>\n",
       "      <th>overall</th>\n",
       "      <th>potential</th>\n",
       "      <th>value_eur</th>\n",
       "      <th>wage_eur</th>\n",
       "      <th>player_positions</th>\n",
       "      <th>power_jumping</th>\n",
       "      <th>power_long_shots</th>\n",
       "    </tr>\n",
       "  </thead>\n",
       "  <tbody>\n",
       "    <tr>\n",
       "      <th>0</th>\n",
       "      <td>L. Messi</td>\n",
       "      <td>32</td>\n",
       "      <td>170</td>\n",
       "      <td>72</td>\n",
       "      <td>Argentina</td>\n",
       "      <td>FC Barcelona</td>\n",
       "      <td>94</td>\n",
       "      <td>94</td>\n",
       "      <td>95500000</td>\n",
       "      <td>565000</td>\n",
       "      <td>RW, CF, ST</td>\n",
       "      <td>68</td>\n",
       "      <td>94</td>\n",
       "    </tr>\n",
       "    <tr>\n",
       "      <th>6</th>\n",
       "      <td>M. ter Stegen</td>\n",
       "      <td>27</td>\n",
       "      <td>187</td>\n",
       "      <td>85</td>\n",
       "      <td>Germany</td>\n",
       "      <td>FC Barcelona</td>\n",
       "      <td>90</td>\n",
       "      <td>93</td>\n",
       "      <td>67500000</td>\n",
       "      <td>250000</td>\n",
       "      <td>GK</td>\n",
       "      <td>79</td>\n",
       "      <td>10</td>\n",
       "    </tr>\n",
       "    <tr>\n",
       "      <th>19</th>\n",
       "      <td>L. Suárez</td>\n",
       "      <td>32</td>\n",
       "      <td>182</td>\n",
       "      <td>86</td>\n",
       "      <td>Uruguay</td>\n",
       "      <td>FC Barcelona</td>\n",
       "      <td>89</td>\n",
       "      <td>89</td>\n",
       "      <td>53000000</td>\n",
       "      <td>355000</td>\n",
       "      <td>ST</td>\n",
       "      <td>69</td>\n",
       "      <td>86</td>\n",
       "    </tr>\n",
       "    <tr>\n",
       "      <th>21</th>\n",
       "      <td>Sergio Busquets</td>\n",
       "      <td>30</td>\n",
       "      <td>189</td>\n",
       "      <td>76</td>\n",
       "      <td>Spain</td>\n",
       "      <td>FC Barcelona</td>\n",
       "      <td>89</td>\n",
       "      <td>89</td>\n",
       "      <td>55000000</td>\n",
       "      <td>300000</td>\n",
       "      <td>CDM, CM</td>\n",
       "      <td>66</td>\n",
       "      <td>54</td>\n",
       "    </tr>\n",
       "    <tr>\n",
       "      <th>22</th>\n",
       "      <td>A. Griezmann</td>\n",
       "      <td>28</td>\n",
       "      <td>176</td>\n",
       "      <td>73</td>\n",
       "      <td>France</td>\n",
       "      <td>FC Barcelona</td>\n",
       "      <td>89</td>\n",
       "      <td>89</td>\n",
       "      <td>69000000</td>\n",
       "      <td>370000</td>\n",
       "      <td>CF, ST, LW</td>\n",
       "      <td>89</td>\n",
       "      <td>83</td>\n",
       "    </tr>\n",
       "    <tr>\n",
       "      <th>75</th>\n",
       "      <td>F. de Jong</td>\n",
       "      <td>22</td>\n",
       "      <td>180</td>\n",
       "      <td>74</td>\n",
       "      <td>Netherlands</td>\n",
       "      <td>FC Barcelona</td>\n",
       "      <td>85</td>\n",
       "      <td>91</td>\n",
       "      <td>52000000</td>\n",
       "      <td>195000</td>\n",
       "      <td>CM, CDM</td>\n",
       "      <td>76</td>\n",
       "      <td>62</td>\n",
       "    </tr>\n",
       "  </tbody>\n",
       "</table>\n",
       "</div>"
      ],
      "text/plain": [
       "         short_name  age  height_cm  weight_kg  nationality          club  \\\n",
       "0          L. Messi   32        170         72    Argentina  FC Barcelona   \n",
       "6     M. ter Stegen   27        187         85      Germany  FC Barcelona   \n",
       "19        L. Suárez   32        182         86      Uruguay  FC Barcelona   \n",
       "21  Sergio Busquets   30        189         76        Spain  FC Barcelona   \n",
       "22     A. Griezmann   28        176         73       France  FC Barcelona   \n",
       "75       F. de Jong   22        180         74  Netherlands  FC Barcelona   \n",
       "\n",
       "    overall  potential  value_eur  wage_eur player_positions  power_jumping  \\\n",
       "0        94         94   95500000    565000       RW, CF, ST             68   \n",
       "6        90         93   67500000    250000               GK             79   \n",
       "19       89         89   53000000    355000               ST             69   \n",
       "21       89         89   55000000    300000          CDM, CM             66   \n",
       "22       89         89   69000000    370000       CF, ST, LW             89   \n",
       "75       85         91   52000000    195000          CM, CDM             76   \n",
       "\n",
       "    power_long_shots  \n",
       "0                 94  \n",
       "6                 10  \n",
       "19                86  \n",
       "21                54  \n",
       "22                83  \n",
       "75                62  "
      ]
     },
     "execution_count": 42,
     "metadata": {},
     "output_type": "execute_result"
    }
   ],
   "source": [
    "most_value_b = barcelona[barcelona['value_eur'] > 50000000]\n",
    "most_value_b"
   ]
  },
  {
   "cell_type": "markdown",
   "id": "e79ae246",
   "metadata": {},
   "source": [
    "A média de valores dos jogadores do Barcelona é de 263.4 milhões de euros"
   ]
  },
  {
   "cell_type": "markdown",
   "id": "c702ab28",
   "metadata": {},
   "source": [
    "O jogador mais caro possui o valor de 955.0 milhões de euros"
   ]
  },
  {
   "cell_type": "markdown",
   "id": "387af722",
   "metadata": {},
   "source": [
    "O jogador mais barato possui o valor de 8.5 milhões de euros"
   ]
  },
  {
   "cell_type": "markdown",
   "id": "e01d8e92",
   "metadata": {},
   "source": [
    "Há uma distribuição bem acentuada ente no range de 0.0 e 0.1"
   ]
  },
  {
   "cell_type": "markdown",
   "id": "79132fc6",
   "metadata": {},
   "source": [
    "### Relação de dados e valorização em 10x8 milhões de euros"
   ]
  },
  {
   "cell_type": "code",
   "execution_count": 43,
   "id": "59f658e1",
   "metadata": {},
   "outputs": [
    {
     "data": {
      "text/plain": [
       "<AxesSubplot:xlabel='age', ylabel='value_eur'>"
      ]
     },
     "execution_count": 43,
     "metadata": {},
     "output_type": "execute_result"
    },
    {
     "data": {
      "image/png": "[encoded data removed]",
      "text/plain": [
       "<Figure size 432x288 with 1 Axes>"
      ]
     },
     "metadata": {
      "needs_background": "light"
     },
     "output_type": "display_data"
    }
   ],
   "source": [
    "players_20_n.plot(kind='scatter', x='age', y='value_eur')"
   ]
  },
  {
   "cell_type": "markdown",
   "id": "a86543b5",
   "metadata": {},
   "source": [
    "Esse gráfico demonstra que temos uma relação entre a idade dos jogadores e o valor que possuem no mercado"
   ]
  },
  {
   "cell_type": "markdown",
   "id": "e3761237",
   "metadata": {},
   "source": [
    "Jogadores entre 20-30 anos possuem uma grande probabilidade de estarem com um valor maior no mercado, a partir dos 35 anos os seus valores já caem consideravelmente e há probabilidades quase nulas de estarem com um valor alto no mercado"
   ]
  },
  {
   "cell_type": "markdown",
   "id": "cbd432cb",
   "metadata": {},
   "source": [
    "#### Jogadores mais valiosos do mundo"
   ]
  },
  {
   "cell_type": "code",
   "execution_count": 49,
   "id": "847a2b95",
   "metadata": {},
   "outputs": [
    {
     "data": {
      "text/html": [
       "<div>\n",
       "<style scoped>\n",
       "    .dataframe tbody tr th:only-of-type {\n",
       "        vertical-align: middle;\n",
       "    }\n",
       "\n",
       "    .dataframe tbody tr th {\n",
       "        vertical-align: top;\n",
       "    }\n",
       "\n",
       "    .dataframe thead th {\n",
       "        text-align: right;\n",
       "    }\n",
       "</style>\n",
       "<table border=\"1\" class=\"dataframe\">\n",
       "  <thead>\n",
       "    <tr style=\"text-align: right;\">\n",
       "      <th></th>\n",
       "      <th>short_name</th>\n",
       "      <th>age</th>\n",
       "      <th>height_cm</th>\n",
       "      <th>weight_kg</th>\n",
       "      <th>nationality</th>\n",
       "      <th>club</th>\n",
       "      <th>overall</th>\n",
       "      <th>potential</th>\n",
       "      <th>value_eur</th>\n",
       "      <th>wage_eur</th>\n",
       "      <th>player_positions</th>\n",
       "      <th>power_jumping</th>\n",
       "      <th>power_long_shots</th>\n",
       "    </tr>\n",
       "  </thead>\n",
       "  <tbody>\n",
       "    <tr>\n",
       "      <th>0</th>\n",
       "      <td>L. Messi</td>\n",
       "      <td>32</td>\n",
       "      <td>170</td>\n",
       "      <td>72</td>\n",
       "      <td>Argentina</td>\n",
       "      <td>FC Barcelona</td>\n",
       "      <td>94</td>\n",
       "      <td>94</td>\n",
       "      <td>95500000</td>\n",
       "      <td>565000</td>\n",
       "      <td>RW, CF, ST</td>\n",
       "      <td>68</td>\n",
       "      <td>94</td>\n",
       "    </tr>\n",
       "    <tr>\n",
       "      <th>2</th>\n",
       "      <td>Neymar Jr</td>\n",
       "      <td>27</td>\n",
       "      <td>175</td>\n",
       "      <td>68</td>\n",
       "      <td>Brazil</td>\n",
       "      <td>Paris Saint-Germain</td>\n",
       "      <td>92</td>\n",
       "      <td>92</td>\n",
       "      <td>105500000</td>\n",
       "      <td>290000</td>\n",
       "      <td>LW, CAM</td>\n",
       "      <td>61</td>\n",
       "      <td>84</td>\n",
       "    </tr>\n",
       "    <tr>\n",
       "      <th>4</th>\n",
       "      <td>E. Hazard</td>\n",
       "      <td>28</td>\n",
       "      <td>175</td>\n",
       "      <td>74</td>\n",
       "      <td>Belgium</td>\n",
       "      <td>Real Madrid</td>\n",
       "      <td>91</td>\n",
       "      <td>91</td>\n",
       "      <td>90000000</td>\n",
       "      <td>470000</td>\n",
       "      <td>LW, CF</td>\n",
       "      <td>56</td>\n",
       "      <td>80</td>\n",
       "    </tr>\n",
       "    <tr>\n",
       "      <th>5</th>\n",
       "      <td>K. De Bruyne</td>\n",
       "      <td>28</td>\n",
       "      <td>181</td>\n",
       "      <td>70</td>\n",
       "      <td>Belgium</td>\n",
       "      <td>Manchester City</td>\n",
       "      <td>91</td>\n",
       "      <td>91</td>\n",
       "      <td>90000000</td>\n",
       "      <td>370000</td>\n",
       "      <td>CAM, CM</td>\n",
       "      <td>63</td>\n",
       "      <td>90</td>\n",
       "    </tr>\n",
       "    <tr>\n",
       "      <th>9</th>\n",
       "      <td>M. Salah</td>\n",
       "      <td>27</td>\n",
       "      <td>175</td>\n",
       "      <td>71</td>\n",
       "      <td>Egypt</td>\n",
       "      <td>Liverpool</td>\n",
       "      <td>90</td>\n",
       "      <td>90</td>\n",
       "      <td>80500000</td>\n",
       "      <td>240000</td>\n",
       "      <td>RW, ST</td>\n",
       "      <td>69</td>\n",
       "      <td>84</td>\n",
       "    </tr>\n",
       "    <tr>\n",
       "      <th>10</th>\n",
       "      <td>K. Mbappé</td>\n",
       "      <td>20</td>\n",
       "      <td>178</td>\n",
       "      <td>73</td>\n",
       "      <td>France</td>\n",
       "      <td>Paris Saint-Germain</td>\n",
       "      <td>89</td>\n",
       "      <td>95</td>\n",
       "      <td>93500000</td>\n",
       "      <td>155000</td>\n",
       "      <td>ST, RW</td>\n",
       "      <td>76</td>\n",
       "      <td>79</td>\n",
       "    </tr>\n",
       "    <tr>\n",
       "      <th>12</th>\n",
       "      <td>H. Kane</td>\n",
       "      <td>25</td>\n",
       "      <td>188</td>\n",
       "      <td>89</td>\n",
       "      <td>England</td>\n",
       "      <td>Tottenham Hotspur</td>\n",
       "      <td>89</td>\n",
       "      <td>91</td>\n",
       "      <td>83000000</td>\n",
       "      <td>220000</td>\n",
       "      <td>ST</td>\n",
       "      <td>79</td>\n",
       "      <td>86</td>\n",
       "    </tr>\n",
       "  </tbody>\n",
       "</table>\n",
       "</div>"
      ],
      "text/plain": [
       "      short_name  age  height_cm  weight_kg nationality                 club  \\\n",
       "0       L. Messi   32        170         72   Argentina         FC Barcelona   \n",
       "2      Neymar Jr   27        175         68      Brazil  Paris Saint-Germain   \n",
       "4      E. Hazard   28        175         74     Belgium          Real Madrid   \n",
       "5   K. De Bruyne   28        181         70     Belgium      Manchester City   \n",
       "9       M. Salah   27        175         71       Egypt            Liverpool   \n",
       "10     K. Mbappé   20        178         73      France  Paris Saint-Germain   \n",
       "12       H. Kane   25        188         89     England    Tottenham Hotspur   \n",
       "\n",
       "    overall  potential  value_eur  wage_eur player_positions  power_jumping  \\\n",
       "0        94         94   95500000    565000       RW, CF, ST             68   \n",
       "2        92         92  105500000    290000          LW, CAM             61   \n",
       "4        91         91   90000000    470000           LW, CF             56   \n",
       "5        91         91   90000000    370000          CAM, CM             63   \n",
       "9        90         90   80500000    240000           RW, ST             69   \n",
       "10       89         95   93500000    155000           ST, RW             76   \n",
       "12       89         91   83000000    220000               ST             79   \n",
       "\n",
       "    power_long_shots  \n",
       "0                 94  \n",
       "2                 84  \n",
       "4                 80  \n",
       "5                 90  \n",
       "9                 84  \n",
       "10                79  \n",
       "12                86  "
      ]
     },
     "execution_count": 49,
     "metadata": {},
     "output_type": "execute_result"
    }
   ],
   "source": [
    "most_value_world = players_20_n[players_20_n['value_eur'] > 80000000]\n",
    "most_value_world"
   ]
  },
  {
   "cell_type": "code",
   "execution_count": 48,
   "id": "19dedc18",
   "metadata": {},
   "outputs": [
    {
     "data": {
      "text/plain": [
       "(7, 13)"
      ]
     },
     "execution_count": 48,
     "metadata": {},
     "output_type": "execute_result"
    }
   ],
   "source": [
    "most_value_world.shape"
   ]
  },
  {
   "cell_type": "markdown",
   "id": "c829afcf",
   "metadata": {},
   "source": [
    "### Análise exploratória dos clubes que contém os melhores salários entre Real Madrid e Barcelona"
   ]
  },
  {
   "cell_type": "code",
   "execution_count": 51,
   "id": "4f90676d",
   "metadata": {},
   "outputs": [
    {
     "data": {
      "text/plain": [
       "count        33.000000\n",
       "mean     162242.424242\n",
       "std      111794.462716\n",
       "min        6000.000000\n",
       "25%       60000.000000\n",
       "50%      165000.000000\n",
       "75%      235000.000000\n",
       "max      470000.000000\n",
       "Name: wage_eur, dtype: float64"
      ]
     },
     "execution_count": 51,
     "metadata": {},
     "output_type": "execute_result"
    }
   ],
   "source": [
    "realmadrid['wage_eur'].describe()"
   ]
  },
  {
   "cell_type": "code",
   "execution_count": 53,
   "id": "bb72d59a",
   "metadata": {},
   "outputs": [
    {
     "data": {
      "text/plain": [
       "count        33.000000\n",
       "mean     150000.000000\n",
       "std      130914.810087\n",
       "min       12000.000000\n",
       "25%       29000.000000\n",
       "50%      155000.000000\n",
       "75%      210000.000000\n",
       "max      565000.000000\n",
       "Name: wage_eur, dtype: float64"
      ]
     },
     "execution_count": 53,
     "metadata": {},
     "output_type": "execute_result"
    }
   ],
   "source": [
    "barcelona['wage_eur'].describe()"
   ]
  },
  {
   "cell_type": "code",
   "execution_count": 54,
   "id": "947f2632",
   "metadata": {},
   "outputs": [
    {
     "data": {
      "text/html": [
       "<div>\n",
       "<style scoped>\n",
       "    .dataframe tbody tr th:only-of-type {\n",
       "        vertical-align: middle;\n",
       "    }\n",
       "\n",
       "    .dataframe tbody tr th {\n",
       "        vertical-align: top;\n",
       "    }\n",
       "\n",
       "    .dataframe thead th {\n",
       "        text-align: right;\n",
       "    }\n",
       "</style>\n",
       "<table border=\"1\" class=\"dataframe\">\n",
       "  <thead>\n",
       "    <tr style=\"text-align: right;\">\n",
       "      <th></th>\n",
       "      <th>short_name</th>\n",
       "      <th>age</th>\n",
       "      <th>height_cm</th>\n",
       "      <th>weight_kg</th>\n",
       "      <th>nationality</th>\n",
       "      <th>club</th>\n",
       "      <th>overall</th>\n",
       "      <th>potential</th>\n",
       "      <th>value_eur</th>\n",
       "      <th>wage_eur</th>\n",
       "      <th>player_positions</th>\n",
       "      <th>power_jumping</th>\n",
       "      <th>power_long_shots</th>\n",
       "    </tr>\n",
       "  </thead>\n",
       "  <tbody>\n",
       "    <tr>\n",
       "      <th>4</th>\n",
       "      <td>E. Hazard</td>\n",
       "      <td>28</td>\n",
       "      <td>175</td>\n",
       "      <td>74</td>\n",
       "      <td>Belgium</td>\n",
       "      <td>Real Madrid</td>\n",
       "      <td>91</td>\n",
       "      <td>91</td>\n",
       "      <td>90000000</td>\n",
       "      <td>470000</td>\n",
       "      <td>LW, CF</td>\n",
       "      <td>56</td>\n",
       "      <td>80</td>\n",
       "    </tr>\n",
       "    <tr>\n",
       "      <th>8</th>\n",
       "      <td>L. Modrić</td>\n",
       "      <td>33</td>\n",
       "      <td>172</td>\n",
       "      <td>66</td>\n",
       "      <td>Croatia</td>\n",
       "      <td>Real Madrid</td>\n",
       "      <td>90</td>\n",
       "      <td>90</td>\n",
       "      <td>45000000</td>\n",
       "      <td>340000</td>\n",
       "      <td>CM</td>\n",
       "      <td>68</td>\n",
       "      <td>82</td>\n",
       "    </tr>\n",
       "    <tr>\n",
       "      <th>36</th>\n",
       "      <td>T. Kroos</td>\n",
       "      <td>29</td>\n",
       "      <td>183</td>\n",
       "      <td>76</td>\n",
       "      <td>Germany</td>\n",
       "      <td>Real Madrid</td>\n",
       "      <td>88</td>\n",
       "      <td>88</td>\n",
       "      <td>57000000</td>\n",
       "      <td>330000</td>\n",
       "      <td>CM</td>\n",
       "      <td>30</td>\n",
       "      <td>86</td>\n",
       "    </tr>\n",
       "  </tbody>\n",
       "</table>\n",
       "</div>"
      ],
      "text/plain": [
       "   short_name  age  height_cm  weight_kg nationality         club  overall  \\\n",
       "4   E. Hazard   28        175         74     Belgium  Real Madrid       91   \n",
       "8   L. Modrić   33        172         66     Croatia  Real Madrid       90   \n",
       "36   T. Kroos   29        183         76     Germany  Real Madrid       88   \n",
       "\n",
       "    potential  value_eur  wage_eur player_positions  power_jumping  \\\n",
       "4          91   90000000    470000           LW, CF             56   \n",
       "8          90   45000000    340000               CM             68   \n",
       "36         88   57000000    330000               CM             30   \n",
       "\n",
       "    power_long_shots  \n",
       "4                 80  \n",
       "8                 82  \n",
       "36                86  "
      ]
     },
     "execution_count": 54,
     "metadata": {},
     "output_type": "execute_result"
    }
   ],
   "source": [
    "best_wage_rm = realmadrid[realmadrid['wage_eur'] > 300000]\n",
    "best_wage_rm"
   ]
  },
  {
   "cell_type": "code",
   "execution_count": 55,
   "id": "14c878d7",
   "metadata": {},
   "outputs": [
    {
     "data": {
      "text/html": [
       "<div>\n",
       "<style scoped>\n",
       "    .dataframe tbody tr th:only-of-type {\n",
       "        vertical-align: middle;\n",
       "    }\n",
       "\n",
       "    .dataframe tbody tr th {\n",
       "        vertical-align: top;\n",
       "    }\n",
       "\n",
       "    .dataframe thead th {\n",
       "        text-align: right;\n",
       "    }\n",
       "</style>\n",
       "<table border=\"1\" class=\"dataframe\">\n",
       "  <thead>\n",
       "    <tr style=\"text-align: right;\">\n",
       "      <th></th>\n",
       "      <th>short_name</th>\n",
       "      <th>age</th>\n",
       "      <th>height_cm</th>\n",
       "      <th>weight_kg</th>\n",
       "      <th>nationality</th>\n",
       "      <th>club</th>\n",
       "      <th>overall</th>\n",
       "      <th>potential</th>\n",
       "      <th>value_eur</th>\n",
       "      <th>wage_eur</th>\n",
       "      <th>player_positions</th>\n",
       "      <th>power_jumping</th>\n",
       "      <th>power_long_shots</th>\n",
       "    </tr>\n",
       "  </thead>\n",
       "  <tbody>\n",
       "    <tr>\n",
       "      <th>0</th>\n",
       "      <td>L. Messi</td>\n",
       "      <td>32</td>\n",
       "      <td>170</td>\n",
       "      <td>72</td>\n",
       "      <td>Argentina</td>\n",
       "      <td>FC Barcelona</td>\n",
       "      <td>94</td>\n",
       "      <td>94</td>\n",
       "      <td>95500000</td>\n",
       "      <td>565000</td>\n",
       "      <td>RW, CF, ST</td>\n",
       "      <td>68</td>\n",
       "      <td>94</td>\n",
       "    </tr>\n",
       "    <tr>\n",
       "      <th>19</th>\n",
       "      <td>L. Suárez</td>\n",
       "      <td>32</td>\n",
       "      <td>182</td>\n",
       "      <td>86</td>\n",
       "      <td>Uruguay</td>\n",
       "      <td>FC Barcelona</td>\n",
       "      <td>89</td>\n",
       "      <td>89</td>\n",
       "      <td>53000000</td>\n",
       "      <td>355000</td>\n",
       "      <td>ST</td>\n",
       "      <td>69</td>\n",
       "      <td>86</td>\n",
       "    </tr>\n",
       "    <tr>\n",
       "      <th>22</th>\n",
       "      <td>A. Griezmann</td>\n",
       "      <td>28</td>\n",
       "      <td>176</td>\n",
       "      <td>73</td>\n",
       "      <td>France</td>\n",
       "      <td>FC Barcelona</td>\n",
       "      <td>89</td>\n",
       "      <td>89</td>\n",
       "      <td>69000000</td>\n",
       "      <td>370000</td>\n",
       "      <td>CF, ST, LW</td>\n",
       "      <td>89</td>\n",
       "      <td>83</td>\n",
       "    </tr>\n",
       "  </tbody>\n",
       "</table>\n",
       "</div>"
      ],
      "text/plain": [
       "      short_name  age  height_cm  weight_kg nationality          club  \\\n",
       "0       L. Messi   32        170         72   Argentina  FC Barcelona   \n",
       "19     L. Suárez   32        182         86     Uruguay  FC Barcelona   \n",
       "22  A. Griezmann   28        176         73      France  FC Barcelona   \n",
       "\n",
       "    overall  potential  value_eur  wage_eur player_positions  power_jumping  \\\n",
       "0        94         94   95500000    565000       RW, CF, ST             68   \n",
       "19       89         89   53000000    355000               ST             69   \n",
       "22       89         89   69000000    370000       CF, ST, LW             89   \n",
       "\n",
       "    power_long_shots  \n",
       "0                 94  \n",
       "19                86  \n",
       "22                83  "
      ]
     },
     "execution_count": 55,
     "metadata": {},
     "output_type": "execute_result"
    }
   ],
   "source": [
    "best_wage_b = barcelona[barcelona['wage_eur'] > 300000]\n",
    "best_wage_b"
   ]
  },
  {
   "cell_type": "markdown",
   "id": "ecee56d4",
   "metadata": {},
   "source": [
    "Os salários do clube Real Madrid, de forma geral, está acima da média em relação ao Barcelona, porém o Barcelona possui o jogador mais caro entre eles"
   ]
  },
  {
   "cell_type": "markdown",
   "id": "7dde043a",
   "metadata": {},
   "source": [
    "### Jogadores com maior potência em tiros longos"
   ]
  },
  {
   "cell_type": "code",
   "execution_count": 56,
   "id": "d3f6c830",
   "metadata": {},
   "outputs": [
    {
     "data": {
      "text/plain": [
       "Text(0.5, 1.0, 'Potência em tiros longos')"
      ]
     },
     "execution_count": 56,
     "metadata": {},
     "output_type": "execute_result"
    },
    {
     "data": {
      "image/png": "[encoded data removed]",
      "text/plain": [
       "<Figure size 432x288 with 1 Axes>"
      ]
     },
     "metadata": {
      "needs_background": "light"
     },
     "output_type": "display_data"
    }
   ],
   "source": [
    "plt.hist(players_20_n['power_long_shots'])\n",
    "plt.xlabel('Potência em tiros longos')\n",
    "plt.ylabel('Frequência')\n",
    "plt.title('Potência em tiros longos')"
   ]
  },
  {
   "cell_type": "code",
   "execution_count": 57,
   "id": "a9900743",
   "metadata": {},
   "outputs": [
    {
     "data": {
      "text/plain": [
       "count    18278.000000\n",
       "mean        46.812945\n",
       "std         19.322343\n",
       "min          4.000000\n",
       "25%         32.000000\n",
       "50%         51.000000\n",
       "75%         62.000000\n",
       "max         94.000000\n",
       "Name: power_long_shots, dtype: float64"
      ]
     },
     "execution_count": 57,
     "metadata": {},
     "output_type": "execute_result"
    }
   ],
   "source": [
    "players_20_n['power_long_shots'].describe()"
   ]
  },
  {
   "cell_type": "code",
   "execution_count": 59,
   "id": "922a3c8a",
   "metadata": {},
   "outputs": [
    {
     "data": {
      "text/html": [
       "<div>\n",
       "<style scoped>\n",
       "    .dataframe tbody tr th:only-of-type {\n",
       "        vertical-align: middle;\n",
       "    }\n",
       "\n",
       "    .dataframe tbody tr th {\n",
       "        vertical-align: top;\n",
       "    }\n",
       "\n",
       "    .dataframe thead th {\n",
       "        text-align: right;\n",
       "    }\n",
       "</style>\n",
       "<table border=\"1\" class=\"dataframe\">\n",
       "  <thead>\n",
       "    <tr style=\"text-align: right;\">\n",
       "      <th></th>\n",
       "      <th>short_name</th>\n",
       "      <th>age</th>\n",
       "      <th>height_cm</th>\n",
       "      <th>weight_kg</th>\n",
       "      <th>nationality</th>\n",
       "      <th>club</th>\n",
       "      <th>overall</th>\n",
       "      <th>potential</th>\n",
       "      <th>value_eur</th>\n",
       "      <th>wage_eur</th>\n",
       "      <th>player_positions</th>\n",
       "      <th>power_jumping</th>\n",
       "      <th>power_long_shots</th>\n",
       "    </tr>\n",
       "  </thead>\n",
       "  <tbody>\n",
       "    <tr>\n",
       "      <th>0</th>\n",
       "      <td>L. Messi</td>\n",
       "      <td>32</td>\n",
       "      <td>170</td>\n",
       "      <td>72</td>\n",
       "      <td>Argentina</td>\n",
       "      <td>FC Barcelona</td>\n",
       "      <td>94</td>\n",
       "      <td>94</td>\n",
       "      <td>95500000</td>\n",
       "      <td>565000</td>\n",
       "      <td>RW, CF, ST</td>\n",
       "      <td>68</td>\n",
       "      <td>94</td>\n",
       "    </tr>\n",
       "    <tr>\n",
       "      <th>1</th>\n",
       "      <td>Cristiano Ronaldo</td>\n",
       "      <td>34</td>\n",
       "      <td>187</td>\n",
       "      <td>83</td>\n",
       "      <td>Portugal</td>\n",
       "      <td>Juventus</td>\n",
       "      <td>93</td>\n",
       "      <td>93</td>\n",
       "      <td>58500000</td>\n",
       "      <td>405000</td>\n",
       "      <td>ST, LW</td>\n",
       "      <td>95</td>\n",
       "      <td>93</td>\n",
       "    </tr>\n",
       "    <tr>\n",
       "      <th>5</th>\n",
       "      <td>K. De Bruyne</td>\n",
       "      <td>28</td>\n",
       "      <td>181</td>\n",
       "      <td>70</td>\n",
       "      <td>Belgium</td>\n",
       "      <td>Manchester City</td>\n",
       "      <td>91</td>\n",
       "      <td>91</td>\n",
       "      <td>90000000</td>\n",
       "      <td>370000</td>\n",
       "      <td>CAM, CM</td>\n",
       "      <td>63</td>\n",
       "      <td>90</td>\n",
       "    </tr>\n",
       "    <tr>\n",
       "      <th>43</th>\n",
       "      <td>H. Son</td>\n",
       "      <td>26</td>\n",
       "      <td>183</td>\n",
       "      <td>78</td>\n",
       "      <td>Korea Republic</td>\n",
       "      <td>Tottenham Hotspur</td>\n",
       "      <td>87</td>\n",
       "      <td>88</td>\n",
       "      <td>60000000</td>\n",
       "      <td>185000</td>\n",
       "      <td>CF, LM</td>\n",
       "      <td>63</td>\n",
       "      <td>90</td>\n",
       "    </tr>\n",
       "    <tr>\n",
       "      <th>100</th>\n",
       "      <td>G. Bale</td>\n",
       "      <td>29</td>\n",
       "      <td>185</td>\n",
       "      <td>82</td>\n",
       "      <td>Wales</td>\n",
       "      <td>Real Madrid</td>\n",
       "      <td>85</td>\n",
       "      <td>85</td>\n",
       "      <td>37500000</td>\n",
       "      <td>250000</td>\n",
       "      <td>RW, LW, ST</td>\n",
       "      <td>86</td>\n",
       "      <td>90</td>\n",
       "    </tr>\n",
       "    <tr>\n",
       "      <th>106</th>\n",
       "      <td>J. Rodríguez</td>\n",
       "      <td>27</td>\n",
       "      <td>180</td>\n",
       "      <td>75</td>\n",
       "      <td>Colombia</td>\n",
       "      <td>Real Madrid</td>\n",
       "      <td>85</td>\n",
       "      <td>85</td>\n",
       "      <td>40500000</td>\n",
       "      <td>225000</td>\n",
       "      <td>CAM, CM, RM</td>\n",
       "      <td>46</td>\n",
       "      <td>92</td>\n",
       "    </tr>\n",
       "    <tr>\n",
       "      <th>532</th>\n",
       "      <td>Hulk</td>\n",
       "      <td>32</td>\n",
       "      <td>179</td>\n",
       "      <td>92</td>\n",
       "      <td>Brazil</td>\n",
       "      <td>Shanghai SIPG FC</td>\n",
       "      <td>80</td>\n",
       "      <td>80</td>\n",
       "      <td>11500000</td>\n",
       "      <td>23000</td>\n",
       "      <td>RM, RW, ST</td>\n",
       "      <td>71</td>\n",
       "      <td>90</td>\n",
       "    </tr>\n",
       "  </tbody>\n",
       "</table>\n",
       "</div>"
      ],
      "text/plain": [
       "            short_name  age  height_cm  weight_kg     nationality  \\\n",
       "0             L. Messi   32        170         72       Argentina   \n",
       "1    Cristiano Ronaldo   34        187         83        Portugal   \n",
       "5         K. De Bruyne   28        181         70         Belgium   \n",
       "43              H. Son   26        183         78  Korea Republic   \n",
       "100            G. Bale   29        185         82           Wales   \n",
       "106       J. Rodríguez   27        180         75        Colombia   \n",
       "532               Hulk   32        179         92          Brazil   \n",
       "\n",
       "                  club  overall  potential  value_eur  wage_eur  \\\n",
       "0         FC Barcelona       94         94   95500000    565000   \n",
       "1             Juventus       93         93   58500000    405000   \n",
       "5      Manchester City       91         91   90000000    370000   \n",
       "43   Tottenham Hotspur       87         88   60000000    185000   \n",
       "100        Real Madrid       85         85   37500000    250000   \n",
       "106        Real Madrid       85         85   40500000    225000   \n",
       "532   Shanghai SIPG FC       80         80   11500000     23000   \n",
       "\n",
       "    player_positions  power_jumping  power_long_shots  \n",
       "0         RW, CF, ST             68                94  \n",
       "1             ST, LW             95                93  \n",
       "5            CAM, CM             63                90  \n",
       "43            CF, LM             63                90  \n",
       "100       RW, LW, ST             86                90  \n",
       "106      CAM, CM, RM             46                92  \n",
       "532       RM, RW, ST             71                90  "
      ]
     },
     "execution_count": 59,
     "metadata": {},
     "output_type": "execute_result"
    }
   ],
   "source": [
    "best_powershots = players_20_n[players_20_n['power_long_shots'] >= 90]\n",
    "best_powershots"
   ]
  },
  {
   "cell_type": "markdown",
   "id": "65b07c82",
   "metadata": {},
   "source": [
    "### Potência em salto"
   ]
  },
  {
   "cell_type": "code",
   "execution_count": 61,
   "id": "1e471b8a",
   "metadata": {},
   "outputs": [
    {
     "data": {
      "text/plain": [
       "Text(0.5, 1.0, 'Potência em Salto')"
      ]
     },
     "execution_count": 61,
     "metadata": {},
     "output_type": "execute_result"
    },
    {
     "data": {
      "image/png": "[encoded data removed]",
      "text/plain": [
       "<Figure size 432x288 with 1 Axes>"
      ]
     },
     "metadata": {
      "needs_background": "light"
     },
     "output_type": "display_data"
    }
   ],
   "source": [
    "plt.hist(players_20_n['power_jumping'])\n",
    "plt.xlabel('Potência em Salto')\n",
    "plt.ylabel(\"Frequência\")\n",
    "plt.title('Potência em Salto')"
   ]
  },
  {
   "cell_type": "code",
   "execution_count": 62,
   "id": "fc3c3743",
   "metadata": {},
   "outputs": [
    {
     "data": {
      "text/plain": [
       "count    18278.000000\n",
       "mean        64.928165\n",
       "std         11.934059\n",
       "min         19.000000\n",
       "25%         58.000000\n",
       "50%         66.000000\n",
       "75%         73.000000\n",
       "max         95.000000\n",
       "Name: power_jumping, dtype: float64"
      ]
     },
     "execution_count": 62,
     "metadata": {},
     "output_type": "execute_result"
    }
   ],
   "source": [
    "players_20_n['power_jumping'].describe()"
   ]
  },
  {
   "cell_type": "code",
   "execution_count": 63,
   "id": "e14abbf1",
   "metadata": {},
   "outputs": [
    {
     "data": {
      "text/html": [
       "<div>\n",
       "<style scoped>\n",
       "    .dataframe tbody tr th:only-of-type {\n",
       "        vertical-align: middle;\n",
       "    }\n",
       "\n",
       "    .dataframe tbody tr th {\n",
       "        vertical-align: top;\n",
       "    }\n",
       "\n",
       "    .dataframe thead th {\n",
       "        text-align: right;\n",
       "    }\n",
       "</style>\n",
       "<table border=\"1\" class=\"dataframe\">\n",
       "  <thead>\n",
       "    <tr style=\"text-align: right;\">\n",
       "      <th></th>\n",
       "      <th>short_name</th>\n",
       "      <th>age</th>\n",
       "      <th>height_cm</th>\n",
       "      <th>weight_kg</th>\n",
       "      <th>nationality</th>\n",
       "      <th>club</th>\n",
       "      <th>overall</th>\n",
       "      <th>potential</th>\n",
       "      <th>value_eur</th>\n",
       "      <th>wage_eur</th>\n",
       "      <th>player_positions</th>\n",
       "      <th>power_jumping</th>\n",
       "      <th>power_long_shots</th>\n",
       "    </tr>\n",
       "  </thead>\n",
       "  <tbody>\n",
       "    <tr>\n",
       "      <th>1</th>\n",
       "      <td>Cristiano Ronaldo</td>\n",
       "      <td>34</td>\n",
       "      <td>187</td>\n",
       "      <td>83</td>\n",
       "      <td>Portugal</td>\n",
       "      <td>Juventus</td>\n",
       "      <td>93</td>\n",
       "      <td>93</td>\n",
       "      <td>58500000</td>\n",
       "      <td>405000</td>\n",
       "      <td>ST, LW</td>\n",
       "      <td>95</td>\n",
       "      <td>93</td>\n",
       "    </tr>\n",
       "    <tr>\n",
       "      <th>7</th>\n",
       "      <td>V. van Dijk</td>\n",
       "      <td>27</td>\n",
       "      <td>193</td>\n",
       "      <td>92</td>\n",
       "      <td>Netherlands</td>\n",
       "      <td>Liverpool</td>\n",
       "      <td>90</td>\n",
       "      <td>91</td>\n",
       "      <td>78000000</td>\n",
       "      <td>200000</td>\n",
       "      <td>CB</td>\n",
       "      <td>90</td>\n",
       "      <td>64</td>\n",
       "    </tr>\n",
       "    <tr>\n",
       "      <th>18</th>\n",
       "      <td>Sergio Ramos</td>\n",
       "      <td>33</td>\n",
       "      <td>184</td>\n",
       "      <td>82</td>\n",
       "      <td>Spain</td>\n",
       "      <td>Real Madrid</td>\n",
       "      <td>89</td>\n",
       "      <td>89</td>\n",
       "      <td>31500000</td>\n",
       "      <td>300000</td>\n",
       "      <td>CB</td>\n",
       "      <td>93</td>\n",
       "      <td>62</td>\n",
       "    </tr>\n",
       "    <tr>\n",
       "      <th>35</th>\n",
       "      <td>D. Godín</td>\n",
       "      <td>33</td>\n",
       "      <td>187</td>\n",
       "      <td>78</td>\n",
       "      <td>Uruguay</td>\n",
       "      <td>Inter</td>\n",
       "      <td>88</td>\n",
       "      <td>88</td>\n",
       "      <td>28000000</td>\n",
       "      <td>135000</td>\n",
       "      <td>CB</td>\n",
       "      <td>90</td>\n",
       "      <td>43</td>\n",
       "    </tr>\n",
       "    <tr>\n",
       "      <th>45</th>\n",
       "      <td>Thiago Silva</td>\n",
       "      <td>34</td>\n",
       "      <td>183</td>\n",
       "      <td>82</td>\n",
       "      <td>Brazil</td>\n",
       "      <td>Paris Saint-Germain</td>\n",
       "      <td>87</td>\n",
       "      <td>87</td>\n",
       "      <td>18500000</td>\n",
       "      <td>135000</td>\n",
       "      <td>CB</td>\n",
       "      <td>90</td>\n",
       "      <td>65</td>\n",
       "    </tr>\n",
       "    <tr>\n",
       "      <th>...</th>\n",
       "      <td>...</td>\n",
       "      <td>...</td>\n",
       "      <td>...</td>\n",
       "      <td>...</td>\n",
       "      <td>...</td>\n",
       "      <td>...</td>\n",
       "      <td>...</td>\n",
       "      <td>...</td>\n",
       "      <td>...</td>\n",
       "      <td>...</td>\n",
       "      <td>...</td>\n",
       "      <td>...</td>\n",
       "      <td>...</td>\n",
       "    </tr>\n",
       "    <tr>\n",
       "      <th>14684</th>\n",
       "      <td>J. Lahne</td>\n",
       "      <td>17</td>\n",
       "      <td>170</td>\n",
       "      <td>68</td>\n",
       "      <td>Sweden</td>\n",
       "      <td>Amiens SC</td>\n",
       "      <td>60</td>\n",
       "      <td>77</td>\n",
       "      <td>425000</td>\n",
       "      <td>1000</td>\n",
       "      <td>ST</td>\n",
       "      <td>91</td>\n",
       "      <td>56</td>\n",
       "    </tr>\n",
       "    <tr>\n",
       "      <th>15308</th>\n",
       "      <td>J. Igbarumah</td>\n",
       "      <td>27</td>\n",
       "      <td>165</td>\n",
       "      <td>62</td>\n",
       "      <td>Nigeria</td>\n",
       "      <td>IK Sirius</td>\n",
       "      <td>60</td>\n",
       "      <td>60</td>\n",
       "      <td>220000</td>\n",
       "      <td>1000</td>\n",
       "      <td>RM, ST</td>\n",
       "      <td>93</td>\n",
       "      <td>43</td>\n",
       "    </tr>\n",
       "    <tr>\n",
       "      <th>15802</th>\n",
       "      <td>Wang Qiuming</td>\n",
       "      <td>26</td>\n",
       "      <td>173</td>\n",
       "      <td>64</td>\n",
       "      <td>China PR</td>\n",
       "      <td>Hebei China Fortune FC</td>\n",
       "      <td>59</td>\n",
       "      <td>60</td>\n",
       "      <td>180000</td>\n",
       "      <td>2000</td>\n",
       "      <td>LM, CM</td>\n",
       "      <td>90</td>\n",
       "      <td>54</td>\n",
       "    </tr>\n",
       "    <tr>\n",
       "      <th>16579</th>\n",
       "      <td>N. Hunziker</td>\n",
       "      <td>23</td>\n",
       "      <td>180</td>\n",
       "      <td>75</td>\n",
       "      <td>Switzerland</td>\n",
       "      <td>FC Thun</td>\n",
       "      <td>57</td>\n",
       "      <td>66</td>\n",
       "      <td>160000</td>\n",
       "      <td>2000</td>\n",
       "      <td>ST</td>\n",
       "      <td>90</td>\n",
       "      <td>54</td>\n",
       "    </tr>\n",
       "    <tr>\n",
       "      <th>17865</th>\n",
       "      <td>E. Dahlqvist</td>\n",
       "      <td>20</td>\n",
       "      <td>167</td>\n",
       "      <td>70</td>\n",
       "      <td>Sweden</td>\n",
       "      <td>IFK Göteborg</td>\n",
       "      <td>52</td>\n",
       "      <td>66</td>\n",
       "      <td>100000</td>\n",
       "      <td>1000</td>\n",
       "      <td>LB</td>\n",
       "      <td>91</td>\n",
       "      <td>27</td>\n",
       "    </tr>\n",
       "  </tbody>\n",
       "</table>\n",
       "<p>252 rows × 13 columns</p>\n",
       "</div>"
      ],
      "text/plain": [
       "              short_name  age  height_cm  weight_kg  nationality  \\\n",
       "1      Cristiano Ronaldo   34        187         83     Portugal   \n",
       "7            V. van Dijk   27        193         92  Netherlands   \n",
       "18          Sergio Ramos   33        184         82        Spain   \n",
       "35              D. Godín   33        187         78      Uruguay   \n",
       "45          Thiago Silva   34        183         82       Brazil   \n",
       "...                  ...  ...        ...        ...          ...   \n",
       "14684           J. Lahne   17        170         68       Sweden   \n",
       "15308       J. Igbarumah   27        165         62      Nigeria   \n",
       "15802       Wang Qiuming   26        173         64     China PR   \n",
       "16579        N. Hunziker   23        180         75  Switzerland   \n",
       "17865       E. Dahlqvist   20        167         70       Sweden   \n",
       "\n",
       "                         club  overall  potential  value_eur  wage_eur  \\\n",
       "1                    Juventus       93         93   58500000    405000   \n",
       "7                   Liverpool       90         91   78000000    200000   \n",
       "18                Real Madrid       89         89   31500000    300000   \n",
       "35                      Inter       88         88   28000000    135000   \n",
       "45        Paris Saint-Germain       87         87   18500000    135000   \n",
       "...                       ...      ...        ...        ...       ...   \n",
       "14684               Amiens SC       60         77     425000      1000   \n",
       "15308               IK Sirius       60         60     220000      1000   \n",
       "15802  Hebei China Fortune FC       59         60     180000      2000   \n",
       "16579                 FC Thun       57         66     160000      2000   \n",
       "17865            IFK Göteborg       52         66     100000      1000   \n",
       "\n",
       "      player_positions  power_jumping  power_long_shots  \n",
       "1               ST, LW             95                93  \n",
       "7                   CB             90                64  \n",
       "18                  CB             93                62  \n",
       "35                  CB             90                43  \n",
       "45                  CB             90                65  \n",
       "...                ...            ...               ...  \n",
       "14684               ST             91                56  \n",
       "15308           RM, ST             93                43  \n",
       "15802           LM, CM             90                54  \n",
       "16579               ST             90                54  \n",
       "17865               LB             91                27  \n",
       "\n",
       "[252 rows x 13 columns]"
      ]
     },
     "execution_count": 63,
     "metadata": {},
     "output_type": "execute_result"
    }
   ],
   "source": [
    "best_powerjumping = players_20_n[players_20_n['power_jumping'] >= 90]\n",
    "best_powerjumping"
   ]
  },
  {
   "cell_type": "markdown",
   "id": "a9b55efc",
   "metadata": {},
   "source": [
    "### Jogadores com maiores idades"
   ]
  },
  {
   "cell_type": "code",
   "execution_count": 64,
   "id": "aada9a9a",
   "metadata": {},
   "outputs": [
    {
     "data": {
      "text/plain": [
       "count    18278.000000\n",
       "mean        25.283291\n",
       "std          4.656964\n",
       "min         16.000000\n",
       "25%         22.000000\n",
       "50%         25.000000\n",
       "75%         29.000000\n",
       "max         42.000000\n",
       "Name: age, dtype: float64"
      ]
     },
     "execution_count": 64,
     "metadata": {},
     "output_type": "execute_result"
    }
   ],
   "source": [
    "players_20_n[\"age\"].describe()"
   ]
  },
  {
   "cell_type": "code",
   "execution_count": 65,
   "id": "1e575309",
   "metadata": {},
   "outputs": [
    {
     "data": {
      "text/html": [
       "<div>\n",
       "<style scoped>\n",
       "    .dataframe tbody tr th:only-of-type {\n",
       "        vertical-align: middle;\n",
       "    }\n",
       "\n",
       "    .dataframe tbody tr th {\n",
       "        vertical-align: top;\n",
       "    }\n",
       "\n",
       "    .dataframe thead th {\n",
       "        text-align: right;\n",
       "    }\n",
       "</style>\n",
       "<table border=\"1\" class=\"dataframe\">\n",
       "  <thead>\n",
       "    <tr style=\"text-align: right;\">\n",
       "      <th></th>\n",
       "      <th>short_name</th>\n",
       "      <th>age</th>\n",
       "      <th>height_cm</th>\n",
       "      <th>weight_kg</th>\n",
       "      <th>nationality</th>\n",
       "      <th>club</th>\n",
       "      <th>overall</th>\n",
       "      <th>potential</th>\n",
       "      <th>value_eur</th>\n",
       "      <th>wage_eur</th>\n",
       "      <th>player_positions</th>\n",
       "      <th>power_jumping</th>\n",
       "      <th>power_long_shots</th>\n",
       "    </tr>\n",
       "  </thead>\n",
       "  <tbody>\n",
       "    <tr>\n",
       "      <th>200</th>\n",
       "      <td>G. Buffon</td>\n",
       "      <td>41</td>\n",
       "      <td>192</td>\n",
       "      <td>92</td>\n",
       "      <td>Italy</td>\n",
       "      <td>Juventus</td>\n",
       "      <td>83</td>\n",
       "      <td>83</td>\n",
       "      <td>2600000</td>\n",
       "      <td>58000</td>\n",
       "      <td>GK</td>\n",
       "      <td>71</td>\n",
       "      <td>13</td>\n",
       "    </tr>\n",
       "    <tr>\n",
       "      <th>868</th>\n",
       "      <td>Hilton</td>\n",
       "      <td>41</td>\n",
       "      <td>180</td>\n",
       "      <td>78</td>\n",
       "      <td>Brazil</td>\n",
       "      <td>Montpellier HSC</td>\n",
       "      <td>78</td>\n",
       "      <td>78</td>\n",
       "      <td>0</td>\n",
       "      <td>21000</td>\n",
       "      <td>CB</td>\n",
       "      <td>79</td>\n",
       "      <td>58</td>\n",
       "    </tr>\n",
       "    <tr>\n",
       "      <th>3706</th>\n",
       "      <td>C. Lucchetti</td>\n",
       "      <td>41</td>\n",
       "      <td>182</td>\n",
       "      <td>69</td>\n",
       "      <td>Argentina</td>\n",
       "      <td>Atlético Tucumán</td>\n",
       "      <td>72</td>\n",
       "      <td>72</td>\n",
       "      <td>325000</td>\n",
       "      <td>5000</td>\n",
       "      <td>GK</td>\n",
       "      <td>62</td>\n",
       "      <td>16</td>\n",
       "    </tr>\n",
       "    <tr>\n",
       "      <th>10665</th>\n",
       "      <td>F. Kippe</td>\n",
       "      <td>41</td>\n",
       "      <td>194</td>\n",
       "      <td>97</td>\n",
       "      <td>Norway</td>\n",
       "      <td>Lillestrøm SK</td>\n",
       "      <td>65</td>\n",
       "      <td>65</td>\n",
       "      <td>0</td>\n",
       "      <td>1000</td>\n",
       "      <td>CB</td>\n",
       "      <td>44</td>\n",
       "      <td>52</td>\n",
       "    </tr>\n",
       "    <tr>\n",
       "      <th>11832</th>\n",
       "      <td>C. Muñoz</td>\n",
       "      <td>42</td>\n",
       "      <td>177</td>\n",
       "      <td>73</td>\n",
       "      <td>Argentina</td>\n",
       "      <td>CD Universidad de Concepción</td>\n",
       "      <td>64</td>\n",
       "      <td>64</td>\n",
       "      <td>50000</td>\n",
       "      <td>1000</td>\n",
       "      <td>GK</td>\n",
       "      <td>73</td>\n",
       "      <td>20</td>\n",
       "    </tr>\n",
       "    <tr>\n",
       "      <th>13003</th>\n",
       "      <td>H. Sulaimani</td>\n",
       "      <td>42</td>\n",
       "      <td>173</td>\n",
       "      <td>70</td>\n",
       "      <td>Saudi Arabia</td>\n",
       "      <td>Al Ahli</td>\n",
       "      <td>63</td>\n",
       "      <td>63</td>\n",
       "      <td>0</td>\n",
       "      <td>5000</td>\n",
       "      <td>LB</td>\n",
       "      <td>69</td>\n",
       "      <td>63</td>\n",
       "    </tr>\n",
       "  </tbody>\n",
       "</table>\n",
       "</div>"
      ],
      "text/plain": [
       "         short_name  age  height_cm  weight_kg   nationality  \\\n",
       "200       G. Buffon   41        192         92         Italy   \n",
       "868          Hilton   41        180         78        Brazil   \n",
       "3706   C. Lucchetti   41        182         69     Argentina   \n",
       "10665      F. Kippe   41        194         97        Norway   \n",
       "11832      C. Muñoz   42        177         73     Argentina   \n",
       "13003  H. Sulaimani   42        173         70  Saudi Arabia   \n",
       "\n",
       "                               club  overall  potential  value_eur  wage_eur  \\\n",
       "200                        Juventus       83         83    2600000     58000   \n",
       "868                 Montpellier HSC       78         78          0     21000   \n",
       "3706               Atlético Tucumán       72         72     325000      5000   \n",
       "10665                 Lillestrøm SK       65         65          0      1000   \n",
       "11832  CD Universidad de Concepción       64         64      50000      1000   \n",
       "13003                       Al Ahli       63         63          0      5000   \n",
       "\n",
       "      player_positions  power_jumping  power_long_shots  \n",
       "200                 GK             71                13  \n",
       "868                 CB             79                58  \n",
       "3706                GK             62                16  \n",
       "10665               CB             44                52  \n",
       "11832               GK             73                20  \n",
       "13003               LB             69                63  "
      ]
     },
     "execution_count": 65,
     "metadata": {},
     "output_type": "execute_result"
    }
   ],
   "source": [
    "age_old = players_20_n[players_20_n['age'] > 40]\n",
    "age_old"
   ]
  },
  {
   "cell_type": "markdown",
   "id": "3ea8836a",
   "metadata": {},
   "source": [
    "### Correlação das variáveis"
   ]
  },
  {
   "cell_type": "code",
   "execution_count": 68,
   "id": "d875da12",
   "metadata": {},
   "outputs": [],
   "source": [
    "players_20_v = players_20[[\"age\", \"height_cm\", \"weight_kg\", \"overall\", \"potential\", \"value_eur\",\n",
    "                 \"wage_eur\", \"power_jumping\", \"power_long_shots\", \"skill_moves\", \"shooting\", \"passing\", \"dribbling\",\n",
    "                 \"defending\", \"physic\", \"movement_acceleration\", \"movement_agility\", \"mentality_vision\"]]"
   ]
  },
  {
   "cell_type": "code",
   "execution_count": 72,
   "id": "3da64393",
   "metadata": {},
   "outputs": [
    {
     "data": {
      "text/plain": [
       "<AxesSubplot:>"
      ]
     },
     "execution_count": 72,
     "metadata": {},
     "output_type": "execute_result"
    },
    {
     "data": {
      "image/png": "[encoded data removed]",
      "text/plain": [
       "<Figure size 720x576 with 2 Axes>"
      ]
     },
     "metadata": {
      "needs_background": "light"
     },
     "output_type": "display_data"
    }
   ],
   "source": [
    "f, ax = plt.subplots(figsize=(10, 8))\n",
    "corr = players_20_v.corr()\n",
    "sns.heatmap(corr)"
   ]
  },
  {
   "cell_type": "code",
   "execution_count": 73,
   "id": "79bdb7c5",
   "metadata": {},
   "outputs": [
    {
     "data": {
      "text/plain": [
       "<AxesSubplot:xlabel='mentality_vision', ylabel='passing'>"
      ]
     },
     "execution_count": 73,
     "metadata": {},
     "output_type": "execute_result"
    },
    {
     "data": {
      "image/png": "[encoded data removed]",
      "text/plain": [
       "<Figure size 432x288 with 1 Axes>"
      ]
     },
     "metadata": {
      "needs_background": "light"
     },
     "output_type": "display_data"
    }
   ],
   "source": [
    "players_20_v.plot(kind = \"scatter\", x = \"mentality_vision\", y = \"passing\", color = \"orange\")"
   ]
  },
  {
   "cell_type": "code",
   "execution_count": 74,
   "id": "705d4387",
   "metadata": {},
   "outputs": [
    {
     "data": {
      "text/plain": [
       "<AxesSubplot:xlabel='mentality_vision', ylabel='dribbling'>"
      ]
     },
     "execution_count": 74,
     "metadata": {},
     "output_type": "execute_result"
    },
    {
     "data": {
      "image/png": "[encoded data removed]",
      "text/plain": [
       "<Figure size 432x288 with 1 Axes>"
      ]
     },
     "metadata": {
      "needs_background": "light"
     },
     "output_type": "display_data"
    }
   ],
   "source": [
    "players_20_v.plot(kind = \"scatter\", x = \"mentality_vision\", y = \"dribbling\", color = \"green\")"
   ]
  },
  {
   "cell_type": "code",
   "execution_count": 76,
   "id": "e7c380f8",
   "metadata": {},
   "outputs": [
    {
     "data": {
      "text/plain": [
       "<AxesSubplot:xlabel='mentality_vision', ylabel='shooting'>"
      ]
     },
     "execution_count": 76,
     "metadata": {},
     "output_type": "execute_result"
    },
    {
     "data": {
      "image/png": "[encoded data removed]",
      "text/plain": [
       "<Figure size 432x288 with 1 Axes>"
      ]
     },
     "metadata": {
      "needs_background": "light"
     },
     "output_type": "display_data"
    }
   ],
   "source": [
    "players_20_v.plot(kind = \"scatter\", x = \"mentality_vision\", y = \"shooting\", color = \"red\")"
   ]
  },
  {
   "cell_type": "code",
   "execution_count": 77,
   "id": "cfe77724",
   "metadata": {},
   "outputs": [
    {
     "data": {
      "text/plain": [
       "<AxesSubplot:xlabel='height_cm', ylabel='movement_agility'>"
      ]
     },
     "execution_count": 77,
     "metadata": {},
     "output_type": "execute_result"
    },
    {
     "data": {
      "image/png": "[encoded data removed]",
      "text/plain": [
       "<Figure size 432x288 with 1 Axes>"
      ]
     },
     "metadata": {
      "needs_background": "light"
     },
     "output_type": "display_data"
    }
   ],
   "source": [
    "players_20_v.plot(kind = \"scatter\", x = \"height_cm\", y = \"movement_agility\", color = \"purple\")"
   ]
  }
 ],
 "metadata": {
  "kernelspec": {
   "display_name": "Python 3 (ipykernel)",
   "language": "python",
   "name": "python3"
  },
  "language_info": {
   "codemirror_mode": {
    "name": "ipython",
    "version": 3
   },
   "file_extension": ".py",
   "mimetype": "text/x-python",
   "name": "python",
   "nbconvert_exporter": "python",
   "pygments_lexer": "ipython3",
   "version": "3.9.7"
  }
 },
 "nbformat": 4,
 "nbformat_minor": 5
}
